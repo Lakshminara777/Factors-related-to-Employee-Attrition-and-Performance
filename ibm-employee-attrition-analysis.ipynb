{
 "cells": [
  {
   "cell_type": "code",
   "execution_count": 1,
   "id": "f60f470f",
   "metadata": {
    "_cell_guid": "b1076dfc-b9ad-4769-8c92-a6c4dae69d19",
    "_uuid": "8f2839f25d086af736a60e9eeb907d3b93b6e0e5",
    "execution": {
     "iopub.execute_input": "2022-07-31T08:44:32.823492Z",
     "iopub.status.busy": "2022-07-31T08:44:32.822518Z",
     "iopub.status.idle": "2022-07-31T08:44:32.848634Z",
     "shell.execute_reply": "2022-07-31T08:44:32.847396Z"
    },
    "papermill": {
     "duration": 0.058234,
     "end_time": "2022-07-31T08:44:32.853406",
     "exception": false,
     "start_time": "2022-07-31T08:44:32.795172",
     "status": "completed"
    },
    "tags": []
   },
   "outputs": [
    {
     "name": "stdout",
     "output_type": "stream",
     "text": [
      "/kaggle/input/ibm-hr-analytics-attrition-dataset/WA_Fn-UseC_-HR-Employee-Attrition.csv\n"
     ]
    }
   ],
   "source": [
    "# This Python 3 environment comes with many helpful analytics libraries installed\n",
    "# It is defined by the kaggle/python Docker image: https://github.com/kaggle/docker-python\n",
    "# For example, here's several helpful packages to load\n",
    "\n",
    "import numpy as np # linear algebra\n",
    "import pandas as pd # data processing, CSV file I/O (e.g. pd.read_csv)\n",
    "import matplotlib.pyplot as plt\n",
    "\n",
    "# Input data files are available in the read-only \"../input/\" directory\n",
    "# For example, running this (by clicking run or pressing Shift+Enter) will list all files under the input directory\n",
    "\n",
    "import os\n",
    "for dirname, _, filenames in os.walk('/kaggle/input'):\n",
    "    for filename in filenames:\n",
    "        print(os.path.join(dirname, filename))\n",
    "\n",
    "# You can write up to 20GB to the current directory (/kaggle/working/) that gets preserved as output when you create a version using \"Save & Run All\" \n",
    "# You can also write temporary files to /kaggle/temp/, but they won't be saved outside of the current session"
   ]
  },
  {
   "cell_type": "markdown",
   "id": "cfe94258",
   "metadata": {
    "papermill": {
     "duration": 0.022188,
     "end_time": "2022-07-31T08:44:32.898133",
     "exception": false,
     "start_time": "2022-07-31T08:44:32.875945",
     "status": "completed"
    },
    "tags": []
   },
   "source": [
    "# IBM employee attrition analysis"
   ]
  },
  {
   "cell_type": "markdown",
   "id": "c37e03f6",
   "metadata": {
    "papermill": {
     "duration": 0.020468,
     "end_time": "2022-07-31T08:44:32.939403",
     "exception": false,
     "start_time": "2022-07-31T08:44:32.918935",
     "status": "completed"
    },
    "tags": []
   },
   "source": []
  },
  {
   "cell_type": "markdown",
   "id": "17ebd44d",
   "metadata": {
    "papermill": {
     "duration": 0.020386,
     "end_time": "2022-07-31T08:44:32.980768",
     "exception": false,
     "start_time": "2022-07-31T08:44:32.960382",
     "status": "completed"
    },
    "tags": []
   },
   "source": [
    "# Welcome to my notebook!"
   ]
  },
  {
   "cell_type": "markdown",
   "id": "1a9823f7",
   "metadata": {
    "papermill": {
     "duration": 0.020364,
     "end_time": "2022-07-31T08:44:33.021905",
     "exception": false,
     "start_time": "2022-07-31T08:44:33.001541",
     "status": "completed"
    },
    "tags": []
   },
   "source": [
    "Description: This is a fictional dataset created by the data scientists at IBM. From this dataset we try to extract some insights on the possible reason as to why attrition happens. "
   ]
  },
  {
   "cell_type": "markdown",
   "id": "6590b1ca",
   "metadata": {
    "papermill": {
     "duration": 0.02081,
     "end_time": "2022-07-31T08:44:33.064226",
     "exception": false,
     "start_time": "2022-07-31T08:44:33.043416",
     "status": "completed"
    },
    "tags": []
   },
   "source": [
    "# The tasks involved are \n",
    "1. Import attrition dataset and import libraries such as pandas, matplotlib.pyplot, numpy, and seaborn.\n",
    "2. Exploring the dataset and examining if data set requires cleaning\n",
    "3. Find age distribution of employees \n",
    "4. Visualise different factors\n",
    "5. Comparing data of the employees who left the organisation with the data of employees who didn't\n",
    "6. Trying to analyse around Job Satisfaction\n",
    "7. Conclusion\n"
   ]
  },
  {
   "cell_type": "markdown",
   "id": "aac2a84d",
   "metadata": {
    "papermill": {
     "duration": 0.021355,
     "end_time": "2022-07-31T08:44:33.106886",
     "exception": false,
     "start_time": "2022-07-31T08:44:33.085531",
     "status": "completed"
    },
    "tags": []
   },
   "source": [
    "# 1. Importing libraries"
   ]
  },
  {
   "cell_type": "code",
   "execution_count": 2,
   "id": "ed96fbbd",
   "metadata": {
    "execution": {
     "iopub.execute_input": "2022-07-31T08:44:33.150460Z",
     "iopub.status.busy": "2022-07-31T08:44:33.150030Z",
     "iopub.status.idle": "2022-07-31T08:44:34.139259Z",
     "shell.execute_reply": "2022-07-31T08:44:34.138189Z"
    },
    "papermill": {
     "duration": 1.014366,
     "end_time": "2022-07-31T08:44:34.141803",
     "exception": false,
     "start_time": "2022-07-31T08:44:33.127437",
     "status": "completed"
    },
    "tags": []
   },
   "outputs": [],
   "source": [
    "import pandas as pd\n",
    "import numpy as np \n",
    "import seaborn as sns\n",
    "import matplotlib.pyplot as plt\n"
   ]
  },
  {
   "cell_type": "markdown",
   "id": "4e8ccb3e",
   "metadata": {
    "papermill": {
     "duration": 0.02058,
     "end_time": "2022-07-31T08:44:34.183459",
     "exception": false,
     "start_time": "2022-07-31T08:44:34.162879",
     "status": "completed"
    },
    "tags": []
   },
   "source": [
    "# Loading the dataset"
   ]
  },
  {
   "cell_type": "code",
   "execution_count": 3,
   "id": "1ce77b1e",
   "metadata": {
    "execution": {
     "iopub.execute_input": "2022-07-31T08:44:34.227336Z",
     "iopub.status.busy": "2022-07-31T08:44:34.226500Z",
     "iopub.status.idle": "2022-07-31T08:44:34.253880Z",
     "shell.execute_reply": "2022-07-31T08:44:34.253035Z"
    },
    "papermill": {
     "duration": 0.051947,
     "end_time": "2022-07-31T08:44:34.256272",
     "exception": false,
     "start_time": "2022-07-31T08:44:34.204325",
     "status": "completed"
    },
    "tags": []
   },
   "outputs": [],
   "source": [
    "df = pd.read_csv('../input/ibm-hr-analytics-attrition-dataset/WA_Fn-UseC_-HR-Employee-Attrition.csv')"
   ]
  },
  {
   "cell_type": "markdown",
   "id": "3cda3285",
   "metadata": {
    "papermill": {
     "duration": 0.020986,
     "end_time": "2022-07-31T08:44:34.298381",
     "exception": false,
     "start_time": "2022-07-31T08:44:34.277395",
     "status": "completed"
    },
    "tags": []
   },
   "source": [
    "# 2. Exploring the dataset and examining if data set requires cleaning."
   ]
  },
  {
   "cell_type": "code",
   "execution_count": 4,
   "id": "f32200e5",
   "metadata": {
    "execution": {
     "iopub.execute_input": "2022-07-31T08:44:34.341933Z",
     "iopub.status.busy": "2022-07-31T08:44:34.341240Z",
     "iopub.status.idle": "2022-07-31T08:44:34.371791Z",
     "shell.execute_reply": "2022-07-31T08:44:34.371024Z"
    },
    "papermill": {
     "duration": 0.054731,
     "end_time": "2022-07-31T08:44:34.373934",
     "exception": false,
     "start_time": "2022-07-31T08:44:34.319203",
     "status": "completed"
    },
    "tags": []
   },
   "outputs": [
    {
     "data": {
      "text/html": [
       "<div>\n",
       "<style scoped>\n",
       "    .dataframe tbody tr th:only-of-type {\n",
       "        vertical-align: middle;\n",
       "    }\n",
       "\n",
       "    .dataframe tbody tr th {\n",
       "        vertical-align: top;\n",
       "    }\n",
       "\n",
       "    .dataframe thead th {\n",
       "        text-align: right;\n",
       "    }\n",
       "</style>\n",
       "<table border=\"1\" class=\"dataframe\">\n",
       "  <thead>\n",
       "    <tr style=\"text-align: right;\">\n",
       "      <th></th>\n",
       "      <th>Age</th>\n",
       "      <th>Attrition</th>\n",
       "      <th>BusinessTravel</th>\n",
       "      <th>DailyRate</th>\n",
       "      <th>Department</th>\n",
       "      <th>DistanceFromHome</th>\n",
       "      <th>Education</th>\n",
       "      <th>EducationField</th>\n",
       "      <th>EmployeeCount</th>\n",
       "      <th>EmployeeNumber</th>\n",
       "      <th>...</th>\n",
       "      <th>RelationshipSatisfaction</th>\n",
       "      <th>StandardHours</th>\n",
       "      <th>StockOptionLevel</th>\n",
       "      <th>TotalWorkingYears</th>\n",
       "      <th>TrainingTimesLastYear</th>\n",
       "      <th>WorkLifeBalance</th>\n",
       "      <th>YearsAtCompany</th>\n",
       "      <th>YearsInCurrentRole</th>\n",
       "      <th>YearsSinceLastPromotion</th>\n",
       "      <th>YearsWithCurrManager</th>\n",
       "    </tr>\n",
       "  </thead>\n",
       "  <tbody>\n",
       "    <tr>\n",
       "      <th>0</th>\n",
       "      <td>41</td>\n",
       "      <td>Yes</td>\n",
       "      <td>Travel_Rarely</td>\n",
       "      <td>1102</td>\n",
       "      <td>Sales</td>\n",
       "      <td>1</td>\n",
       "      <td>2</td>\n",
       "      <td>Life Sciences</td>\n",
       "      <td>1</td>\n",
       "      <td>1</td>\n",
       "      <td>...</td>\n",
       "      <td>1</td>\n",
       "      <td>80</td>\n",
       "      <td>0</td>\n",
       "      <td>8</td>\n",
       "      <td>0</td>\n",
       "      <td>1</td>\n",
       "      <td>6</td>\n",
       "      <td>4</td>\n",
       "      <td>0</td>\n",
       "      <td>5</td>\n",
       "    </tr>\n",
       "    <tr>\n",
       "      <th>1</th>\n",
       "      <td>49</td>\n",
       "      <td>No</td>\n",
       "      <td>Travel_Frequently</td>\n",
       "      <td>279</td>\n",
       "      <td>Research &amp; Development</td>\n",
       "      <td>8</td>\n",
       "      <td>1</td>\n",
       "      <td>Life Sciences</td>\n",
       "      <td>1</td>\n",
       "      <td>2</td>\n",
       "      <td>...</td>\n",
       "      <td>4</td>\n",
       "      <td>80</td>\n",
       "      <td>1</td>\n",
       "      <td>10</td>\n",
       "      <td>3</td>\n",
       "      <td>3</td>\n",
       "      <td>10</td>\n",
       "      <td>7</td>\n",
       "      <td>1</td>\n",
       "      <td>7</td>\n",
       "    </tr>\n",
       "    <tr>\n",
       "      <th>2</th>\n",
       "      <td>37</td>\n",
       "      <td>Yes</td>\n",
       "      <td>Travel_Rarely</td>\n",
       "      <td>1373</td>\n",
       "      <td>Research &amp; Development</td>\n",
       "      <td>2</td>\n",
       "      <td>2</td>\n",
       "      <td>Other</td>\n",
       "      <td>1</td>\n",
       "      <td>4</td>\n",
       "      <td>...</td>\n",
       "      <td>2</td>\n",
       "      <td>80</td>\n",
       "      <td>0</td>\n",
       "      <td>7</td>\n",
       "      <td>3</td>\n",
       "      <td>3</td>\n",
       "      <td>0</td>\n",
       "      <td>0</td>\n",
       "      <td>0</td>\n",
       "      <td>0</td>\n",
       "    </tr>\n",
       "    <tr>\n",
       "      <th>3</th>\n",
       "      <td>33</td>\n",
       "      <td>No</td>\n",
       "      <td>Travel_Frequently</td>\n",
       "      <td>1392</td>\n",
       "      <td>Research &amp; Development</td>\n",
       "      <td>3</td>\n",
       "      <td>4</td>\n",
       "      <td>Life Sciences</td>\n",
       "      <td>1</td>\n",
       "      <td>5</td>\n",
       "      <td>...</td>\n",
       "      <td>3</td>\n",
       "      <td>80</td>\n",
       "      <td>0</td>\n",
       "      <td>8</td>\n",
       "      <td>3</td>\n",
       "      <td>3</td>\n",
       "      <td>8</td>\n",
       "      <td>7</td>\n",
       "      <td>3</td>\n",
       "      <td>0</td>\n",
       "    </tr>\n",
       "    <tr>\n",
       "      <th>4</th>\n",
       "      <td>27</td>\n",
       "      <td>No</td>\n",
       "      <td>Travel_Rarely</td>\n",
       "      <td>591</td>\n",
       "      <td>Research &amp; Development</td>\n",
       "      <td>2</td>\n",
       "      <td>1</td>\n",
       "      <td>Medical</td>\n",
       "      <td>1</td>\n",
       "      <td>7</td>\n",
       "      <td>...</td>\n",
       "      <td>4</td>\n",
       "      <td>80</td>\n",
       "      <td>1</td>\n",
       "      <td>6</td>\n",
       "      <td>3</td>\n",
       "      <td>3</td>\n",
       "      <td>2</td>\n",
       "      <td>2</td>\n",
       "      <td>2</td>\n",
       "      <td>2</td>\n",
       "    </tr>\n",
       "  </tbody>\n",
       "</table>\n",
       "<p>5 rows × 35 columns</p>\n",
       "</div>"
      ],
      "text/plain": [
       "   Age Attrition     BusinessTravel  DailyRate              Department  \\\n",
       "0   41       Yes      Travel_Rarely       1102                   Sales   \n",
       "1   49        No  Travel_Frequently        279  Research & Development   \n",
       "2   37       Yes      Travel_Rarely       1373  Research & Development   \n",
       "3   33        No  Travel_Frequently       1392  Research & Development   \n",
       "4   27        No      Travel_Rarely        591  Research & Development   \n",
       "\n",
       "   DistanceFromHome  Education EducationField  EmployeeCount  EmployeeNumber  \\\n",
       "0                 1          2  Life Sciences              1               1   \n",
       "1                 8          1  Life Sciences              1               2   \n",
       "2                 2          2          Other              1               4   \n",
       "3                 3          4  Life Sciences              1               5   \n",
       "4                 2          1        Medical              1               7   \n",
       "\n",
       "   ...  RelationshipSatisfaction StandardHours  StockOptionLevel  \\\n",
       "0  ...                         1            80                 0   \n",
       "1  ...                         4            80                 1   \n",
       "2  ...                         2            80                 0   \n",
       "3  ...                         3            80                 0   \n",
       "4  ...                         4            80                 1   \n",
       "\n",
       "   TotalWorkingYears  TrainingTimesLastYear WorkLifeBalance  YearsAtCompany  \\\n",
       "0                  8                      0               1               6   \n",
       "1                 10                      3               3              10   \n",
       "2                  7                      3               3               0   \n",
       "3                  8                      3               3               8   \n",
       "4                  6                      3               3               2   \n",
       "\n",
       "  YearsInCurrentRole  YearsSinceLastPromotion  YearsWithCurrManager  \n",
       "0                  4                        0                     5  \n",
       "1                  7                        1                     7  \n",
       "2                  0                        0                     0  \n",
       "3                  7                        3                     0  \n",
       "4                  2                        2                     2  \n",
       "\n",
       "[5 rows x 35 columns]"
      ]
     },
     "execution_count": 4,
     "metadata": {},
     "output_type": "execute_result"
    }
   ],
   "source": [
    "df.head()"
   ]
  },
  {
   "cell_type": "markdown",
   "id": "afe67ac4",
   "metadata": {
    "papermill": {
     "duration": 0.020904,
     "end_time": "2022-07-31T08:44:34.416307",
     "exception": false,
     "start_time": "2022-07-31T08:44:34.395403",
     "status": "completed"
    },
    "tags": []
   },
   "source": [
    "# The following columns describe the following: \n",
    "Education - 1-'Below College'\n",
    "2-'College'\n",
    "3-'Bachelor'\n",
    "4-'Master'\n",
    "5-'Doctor'\n",
    "\n",
    "EnvironmentSatisfaction\n",
    "1 'Low'\n",
    "2 'Medium'\n",
    "3 'High'\n",
    "4 'Very High'\n",
    "\n",
    "JobInvolvement\n",
    "1 'Low'\n",
    "2 'Medium'\n",
    "3 'High'\n",
    "4 'Very High'\n",
    "\n",
    "JobSatisfaction\n",
    "1 'Low'\n",
    "2 'Medium'\n",
    "3 'High'\n",
    "4 'Very High'\n",
    "\n",
    "PerformanceRating\n",
    "1 'Low'\n",
    "2 'Good'\n",
    "3 'Excellent'\n",
    "4 'Outstanding'\n",
    "\n",
    "RelationshipSatisfaction\n",
    "1 'Low'\n",
    "2 'Medium'\n",
    "3 'High'\n",
    "4 'Very High'\n",
    "\n",
    "WorkLifeBalance\n",
    "1 'Bad'\n",
    "2 'Good'\n",
    "3 'Better'\n",
    "4 'Best'"
   ]
  },
  {
   "cell_type": "code",
   "execution_count": 5,
   "id": "4073df63",
   "metadata": {
    "execution": {
     "iopub.execute_input": "2022-07-31T08:44:34.460915Z",
     "iopub.status.busy": "2022-07-31T08:44:34.460145Z",
     "iopub.status.idle": "2022-07-31T08:44:34.471180Z",
     "shell.execute_reply": "2022-07-31T08:44:34.470221Z"
    },
    "papermill": {
     "duration": 0.036055,
     "end_time": "2022-07-31T08:44:34.473571",
     "exception": false,
     "start_time": "2022-07-31T08:44:34.437516",
     "status": "completed"
    },
    "tags": []
   },
   "outputs": [
    {
     "data": {
      "text/plain": [
       "Age                         0\n",
       "Attrition                   0\n",
       "BusinessTravel              0\n",
       "DailyRate                   0\n",
       "Department                  0\n",
       "DistanceFromHome            0\n",
       "Education                   0\n",
       "EducationField              0\n",
       "EmployeeCount               0\n",
       "EmployeeNumber              0\n",
       "EnvironmentSatisfaction     0\n",
       "Gender                      0\n",
       "HourlyRate                  0\n",
       "JobInvolvement              0\n",
       "JobLevel                    0\n",
       "JobRole                     0\n",
       "JobSatisfaction             0\n",
       "MaritalStatus               0\n",
       "MonthlyIncome               0\n",
       "MonthlyRate                 0\n",
       "NumCompaniesWorked          0\n",
       "Over18                      0\n",
       "OverTime                    0\n",
       "PercentSalaryHike           0\n",
       "PerformanceRating           0\n",
       "RelationshipSatisfaction    0\n",
       "StandardHours               0\n",
       "StockOptionLevel            0\n",
       "TotalWorkingYears           0\n",
       "TrainingTimesLastYear       0\n",
       "WorkLifeBalance             0\n",
       "YearsAtCompany              0\n",
       "YearsInCurrentRole          0\n",
       "YearsSinceLastPromotion     0\n",
       "YearsWithCurrManager        0\n",
       "dtype: int64"
      ]
     },
     "execution_count": 5,
     "metadata": {},
     "output_type": "execute_result"
    }
   ],
   "source": [
    "df.isnull().sum()"
   ]
  },
  {
   "cell_type": "markdown",
   "id": "40921f9b",
   "metadata": {
    "papermill": {
     "duration": 0.021147,
     "end_time": "2022-07-31T08:44:34.516263",
     "exception": false,
     "start_time": "2022-07-31T08:44:34.495116",
     "status": "completed"
    },
    "tags": []
   },
   "source": [
    "# The data doesn't contain any null values"
   ]
  },
  {
   "cell_type": "code",
   "execution_count": 6,
   "id": "89f5ad10",
   "metadata": {
    "execution": {
     "iopub.execute_input": "2022-07-31T08:44:34.561383Z",
     "iopub.status.busy": "2022-07-31T08:44:34.560545Z",
     "iopub.status.idle": "2022-07-31T08:44:34.568975Z",
     "shell.execute_reply": "2022-07-31T08:44:34.568175Z"
    },
    "papermill": {
     "duration": 0.033411,
     "end_time": "2022-07-31T08:44:34.571126",
     "exception": false,
     "start_time": "2022-07-31T08:44:34.537715",
     "status": "completed"
    },
    "tags": []
   },
   "outputs": [
    {
     "data": {
      "text/plain": [
       "Age                          int64\n",
       "Attrition                   object\n",
       "BusinessTravel              object\n",
       "DailyRate                    int64\n",
       "Department                  object\n",
       "DistanceFromHome             int64\n",
       "Education                    int64\n",
       "EducationField              object\n",
       "EmployeeCount                int64\n",
       "EmployeeNumber               int64\n",
       "EnvironmentSatisfaction      int64\n",
       "Gender                      object\n",
       "HourlyRate                   int64\n",
       "JobInvolvement               int64\n",
       "JobLevel                     int64\n",
       "JobRole                     object\n",
       "JobSatisfaction              int64\n",
       "MaritalStatus               object\n",
       "MonthlyIncome                int64\n",
       "MonthlyRate                  int64\n",
       "NumCompaniesWorked           int64\n",
       "Over18                      object\n",
       "OverTime                    object\n",
       "PercentSalaryHike            int64\n",
       "PerformanceRating            int64\n",
       "RelationshipSatisfaction     int64\n",
       "StandardHours                int64\n",
       "StockOptionLevel             int64\n",
       "TotalWorkingYears            int64\n",
       "TrainingTimesLastYear        int64\n",
       "WorkLifeBalance              int64\n",
       "YearsAtCompany               int64\n",
       "YearsInCurrentRole           int64\n",
       "YearsSinceLastPromotion      int64\n",
       "YearsWithCurrManager         int64\n",
       "dtype: object"
      ]
     },
     "execution_count": 6,
     "metadata": {},
     "output_type": "execute_result"
    }
   ],
   "source": [
    "df.dtypes"
   ]
  },
  {
   "cell_type": "code",
   "execution_count": 7,
   "id": "7180aee3",
   "metadata": {
    "execution": {
     "iopub.execute_input": "2022-07-31T08:44:34.616539Z",
     "iopub.status.busy": "2022-07-31T08:44:34.615853Z",
     "iopub.status.idle": "2022-07-31T08:44:34.621637Z",
     "shell.execute_reply": "2022-07-31T08:44:34.620565Z"
    },
    "papermill": {
     "duration": 0.030918,
     "end_time": "2022-07-31T08:44:34.623691",
     "exception": false,
     "start_time": "2022-07-31T08:44:34.592773",
     "status": "completed"
    },
    "tags": []
   },
   "outputs": [
    {
     "data": {
      "text/plain": [
       "(1470, 35)"
      ]
     },
     "execution_count": 7,
     "metadata": {},
     "output_type": "execute_result"
    }
   ],
   "source": [
    "df.shape"
   ]
  },
  {
   "cell_type": "code",
   "execution_count": 8,
   "id": "f76d525d",
   "metadata": {
    "execution": {
     "iopub.execute_input": "2022-07-31T08:44:34.671232Z",
     "iopub.status.busy": "2022-07-31T08:44:34.670462Z",
     "iopub.status.idle": "2022-07-31T08:44:34.676751Z",
     "shell.execute_reply": "2022-07-31T08:44:34.676032Z"
    },
    "papermill": {
     "duration": 0.03205,
     "end_time": "2022-07-31T08:44:34.678653",
     "exception": false,
     "start_time": "2022-07-31T08:44:34.646603",
     "status": "completed"
    },
    "tags": []
   },
   "outputs": [
    {
     "data": {
      "text/plain": [
       "Index(['Age', 'Attrition', 'BusinessTravel', 'DailyRate', 'Department',\n",
       "       'DistanceFromHome', 'Education', 'EducationField', 'EmployeeCount',\n",
       "       'EmployeeNumber', 'EnvironmentSatisfaction', 'Gender', 'HourlyRate',\n",
       "       'JobInvolvement', 'JobLevel', 'JobRole', 'JobSatisfaction',\n",
       "       'MaritalStatus', 'MonthlyIncome', 'MonthlyRate', 'NumCompaniesWorked',\n",
       "       'Over18', 'OverTime', 'PercentSalaryHike', 'PerformanceRating',\n",
       "       'RelationshipSatisfaction', 'StandardHours', 'StockOptionLevel',\n",
       "       'TotalWorkingYears', 'TrainingTimesLastYear', 'WorkLifeBalance',\n",
       "       'YearsAtCompany', 'YearsInCurrentRole', 'YearsSinceLastPromotion',\n",
       "       'YearsWithCurrManager'],\n",
       "      dtype='object')"
      ]
     },
     "execution_count": 8,
     "metadata": {},
     "output_type": "execute_result"
    }
   ],
   "source": [
    "df.columns"
   ]
  },
  {
   "cell_type": "markdown",
   "id": "231c0064",
   "metadata": {
    "papermill": {
     "duration": 0.021503,
     "end_time": "2022-07-31T08:44:34.722023",
     "exception": false,
     "start_time": "2022-07-31T08:44:34.700520",
     "status": "completed"
    },
    "tags": []
   },
   "source": [
    "**We will replace the values in columns of Education with the detalied values**"
   ]
  },
  {
   "cell_type": "code",
   "execution_count": 9,
   "id": "7937665c",
   "metadata": {
    "execution": {
     "iopub.execute_input": "2022-07-31T08:44:34.767808Z",
     "iopub.status.busy": "2022-07-31T08:44:34.767132Z",
     "iopub.status.idle": "2022-07-31T08:44:34.777905Z",
     "shell.execute_reply": "2022-07-31T08:44:34.777124Z"
    },
    "papermill": {
     "duration": 0.036091,
     "end_time": "2022-07-31T08:44:34.779916",
     "exception": false,
     "start_time": "2022-07-31T08:44:34.743825",
     "status": "completed"
    },
    "tags": []
   },
   "outputs": [
    {
     "data": {
      "text/plain": [
       "array([2, 1, 4, 3, 5])"
      ]
     },
     "execution_count": 9,
     "metadata": {},
     "output_type": "execute_result"
    }
   ],
   "source": [
    "df['Education'].unique()"
   ]
  },
  {
   "cell_type": "code",
   "execution_count": 10,
   "id": "25743182",
   "metadata": {
    "execution": {
     "iopub.execute_input": "2022-07-31T08:44:34.826611Z",
     "iopub.status.busy": "2022-07-31T08:44:34.825871Z",
     "iopub.status.idle": "2022-07-31T08:44:34.832589Z",
     "shell.execute_reply": "2022-07-31T08:44:34.831791Z"
    },
    "papermill": {
     "duration": 0.032833,
     "end_time": "2022-07-31T08:44:34.834713",
     "exception": false,
     "start_time": "2022-07-31T08:44:34.801880",
     "status": "completed"
    },
    "tags": []
   },
   "outputs": [],
   "source": [
    "df['Education'] = df['Education'].replace([1,2,3,4,5],['Below College','College', 'Bachelor', 'Master', 'Doctor'])\n"
   ]
  },
  {
   "cell_type": "markdown",
   "id": "0cc5f400",
   "metadata": {
    "papermill": {
     "duration": 0.021798,
     "end_time": "2022-07-31T08:44:34.878573",
     "exception": false,
     "start_time": "2022-07-31T08:44:34.856775",
     "status": "completed"
    },
    "tags": []
   },
   "source": [
    "# 3. Finding the age distribution of the employees"
   ]
  },
  {
   "cell_type": "code",
   "execution_count": 11,
   "id": "a331412a",
   "metadata": {
    "execution": {
     "iopub.execute_input": "2022-07-31T08:44:34.925295Z",
     "iopub.status.busy": "2022-07-31T08:44:34.924628Z",
     "iopub.status.idle": "2022-07-31T08:44:34.931786Z",
     "shell.execute_reply": "2022-07-31T08:44:34.931086Z"
    },
    "papermill": {
     "duration": 0.032605,
     "end_time": "2022-07-31T08:44:34.933923",
     "exception": false,
     "start_time": "2022-07-31T08:44:34.901318",
     "status": "completed"
    },
    "tags": []
   },
   "outputs": [],
   "source": [
    "df['age_decade'] = df['Age']//10*10\n",
    "\n",
    "df = df.assign(Age_decade = df['age_decade'])\n"
   ]
  },
  {
   "cell_type": "code",
   "execution_count": 12,
   "id": "5083a782",
   "metadata": {
    "execution": {
     "iopub.execute_input": "2022-07-31T08:44:34.981350Z",
     "iopub.status.busy": "2022-07-31T08:44:34.980649Z",
     "iopub.status.idle": "2022-07-31T08:44:34.987500Z",
     "shell.execute_reply": "2022-07-31T08:44:34.986655Z"
    },
    "papermill": {
     "duration": 0.03314,
     "end_time": "2022-07-31T08:44:34.989892",
     "exception": false,
     "start_time": "2022-07-31T08:44:34.956752",
     "status": "completed"
    },
    "tags": []
   },
   "outputs": [],
   "source": [
    "df['age_decade'] = df['age_decade'].replace([10.0, 20.0, 30.0, 40.0, 50.0, 60.0],['10s','20s', '30s', '40s', '50s', '60s'])"
   ]
  },
  {
   "cell_type": "code",
   "execution_count": 13,
   "id": "3b975e8e",
   "metadata": {
    "execution": {
     "iopub.execute_input": "2022-07-31T08:44:35.036108Z",
     "iopub.status.busy": "2022-07-31T08:44:35.035348Z",
     "iopub.status.idle": "2022-07-31T08:44:35.041513Z",
     "shell.execute_reply": "2022-07-31T08:44:35.040592Z"
    },
    "papermill": {
     "duration": 0.0316,
     "end_time": "2022-07-31T08:44:35.043528",
     "exception": false,
     "start_time": "2022-07-31T08:44:35.011928",
     "status": "completed"
    },
    "tags": []
   },
   "outputs": [
    {
     "data": {
      "text/plain": [
       "(1470,)"
      ]
     },
     "execution_count": 13,
     "metadata": {},
     "output_type": "execute_result"
    }
   ],
   "source": [
    "df['age_decade'].shape"
   ]
  },
  {
   "cell_type": "code",
   "execution_count": 14,
   "id": "b47faa3c",
   "metadata": {
    "execution": {
     "iopub.execute_input": "2022-07-31T08:44:35.089652Z",
     "iopub.status.busy": "2022-07-31T08:44:35.088921Z",
     "iopub.status.idle": "2022-07-31T08:44:35.345185Z",
     "shell.execute_reply": "2022-07-31T08:44:35.344081Z"
    },
    "papermill": {
     "duration": 0.282943,
     "end_time": "2022-07-31T08:44:35.348585",
     "exception": false,
     "start_time": "2022-07-31T08:44:35.065642",
     "status": "completed"
    },
    "tags": []
   },
   "outputs": [
    {
     "data": {
      "image/png": "[encoded data removed]",
      "text/plain": [
       "<Figure size 1008x432 with 1 Axes>"
      ]
     },
     "metadata": {
      "needs_background": "light"
     },
     "output_type": "display_data"
    }
   ],
   "source": [
    "plt.figure(figsize=(14,6))\n",
    "sns.set_theme(style = 'darkgrid')\n",
    "ax = sns.histplot(data = df, x = df[\"age_decade\"], binwidth = 10, palette = 'rocket')\n",
    "for i in ax.containers:\n",
    "        ax.bar_label(i,)"
   ]
  },
  {
   "cell_type": "markdown",
   "id": "73af1961",
   "metadata": {
    "papermill": {
     "duration": 0.022177,
     "end_time": "2022-07-31T08:44:35.394566",
     "exception": false,
     "start_time": "2022-07-31T08:44:35.372389",
     "status": "completed"
    },
    "tags": []
   },
   "source": [
    "**We have converted the age into their decades and then add those values in a seperate column**"
   ]
  },
  {
   "cell_type": "markdown",
   "id": "19238aa8",
   "metadata": {
    "papermill": {
     "duration": 0.022248,
     "end_time": "2022-07-31T08:44:35.439287",
     "exception": false,
     "start_time": "2022-07-31T08:44:35.417039",
     "status": "completed"
    },
    "tags": []
   },
   "source": [
    "# 4.  Visualise different factors"
   ]
  },
  {
   "cell_type": "markdown",
   "id": "830f48a1",
   "metadata": {
    "papermill": {
     "duration": 0.022205,
     "end_time": "2022-07-31T08:44:35.484005",
     "exception": false,
     "start_time": "2022-07-31T08:44:35.461800",
     "status": "completed"
    },
    "tags": []
   },
   "source": [
    "**1.Attrition by age group**"
   ]
  },
  {
   "cell_type": "code",
   "execution_count": 15,
   "id": "1211fc8d",
   "metadata": {
    "execution": {
     "iopub.execute_input": "2022-07-31T08:44:35.531385Z",
     "iopub.status.busy": "2022-07-31T08:44:35.530596Z",
     "iopub.status.idle": "2022-07-31T08:44:35.756768Z",
     "shell.execute_reply": "2022-07-31T08:44:35.755526Z"
    },
    "papermill": {
     "duration": 0.252844,
     "end_time": "2022-07-31T08:44:35.759374",
     "exception": false,
     "start_time": "2022-07-31T08:44:35.506530",
     "status": "completed"
    },
    "tags": []
   },
   "outputs": [
    {
     "data": {
      "image/png": "[encoded data removed]",
      "text/plain": [
       "<Figure size 1008x432 with 1 Axes>"
      ]
     },
     "metadata": {},
     "output_type": "display_data"
    }
   ],
   "source": [
    "\n",
    "plt.figure(figsize=(14,6))\n",
    "sns.set_theme(style=\"darkgrid\", font_scale = 1.1)\n",
    "g =sns.countplot(data=df, x='age_decade', hue='Attrition', palette='rocket').set_title('Attrition by Age_decade');\n",
    "\n",
    "\n"
   ]
  },
  {
   "cell_type": "markdown",
   "id": "812f27d0",
   "metadata": {
    "papermill": {
     "duration": 0.023595,
     "end_time": "2022-07-31T08:44:35.807320",
     "exception": false,
     "start_time": "2022-07-31T08:44:35.783725",
     "status": "completed"
    },
    "tags": []
   },
   "source": [
    "**2. Attrition by Gender**"
   ]
  },
  {
   "cell_type": "code",
   "execution_count": 16,
   "id": "818d6758",
   "metadata": {
    "execution": {
     "iopub.execute_input": "2022-07-31T08:44:35.856047Z",
     "iopub.status.busy": "2022-07-31T08:44:35.855175Z",
     "iopub.status.idle": "2022-07-31T08:44:36.071643Z",
     "shell.execute_reply": "2022-07-31T08:44:36.070434Z"
    },
    "papermill": {
     "duration": 0.244435,
     "end_time": "2022-07-31T08:44:36.075099",
     "exception": false,
     "start_time": "2022-07-31T08:44:35.830664",
     "status": "completed"
    },
    "tags": []
   },
   "outputs": [
    {
     "data": {
      "image/png": "[encoded data removed]",
      "text/plain": [
       "<Figure size 640x400 with 1 Axes>"
      ]
     },
     "metadata": {},
     "output_type": "display_data"
    }
   ],
   "source": [
    "plt.figure(figsize=(8,5), dpi=80)\n",
    "sns.set_theme(style=\"darkgrid\", font_scale = 1.1)\n",
    "sns.countplot(data=df, x='Gender', hue='Attrition', palette='rocket').set_title('Attrition by Gender');"
   ]
  },
  {
   "cell_type": "markdown",
   "id": "efd4ca67",
   "metadata": {
    "papermill": {
     "duration": 0.022839,
     "end_time": "2022-07-31T08:44:36.122009",
     "exception": false,
     "start_time": "2022-07-31T08:44:36.099170",
     "status": "completed"
    },
    "tags": []
   },
   "source": [
    "**3. Attrition by Department**"
   ]
  },
  {
   "cell_type": "code",
   "execution_count": 17,
   "id": "fdb727a5",
   "metadata": {
    "execution": {
     "iopub.execute_input": "2022-07-31T08:44:36.171651Z",
     "iopub.status.busy": "2022-07-31T08:44:36.170912Z",
     "iopub.status.idle": "2022-07-31T08:44:36.365770Z",
     "shell.execute_reply": "2022-07-31T08:44:36.364579Z"
    },
    "papermill": {
     "duration": 0.223152,
     "end_time": "2022-07-31T08:44:36.368499",
     "exception": false,
     "start_time": "2022-07-31T08:44:36.145347",
     "status": "completed"
    },
    "tags": []
   },
   "outputs": [
    {
     "data": {
      "image/png": "[encoded data removed]",
      "text/plain": [
       "<Figure size 640x400 with 1 Axes>"
      ]
     },
     "metadata": {},
     "output_type": "display_data"
    }
   ],
   "source": [
    "plt.figure(figsize=(8,5), dpi=80)\n",
    "sns.set_theme(style=\"darkgrid\", font_scale = 1.1)\n",
    "ax = sns.countplot(data=df[(df['Attrition'] == 'Yes')], x='Department', palette='rocket').set_title('Attrition by Department');"
   ]
  },
  {
   "cell_type": "markdown",
   "id": "da011e84",
   "metadata": {
    "papermill": {
     "duration": 0.023236,
     "end_time": "2022-07-31T08:44:36.415844",
     "exception": false,
     "start_time": "2022-07-31T08:44:36.392608",
     "status": "completed"
    },
    "tags": []
   },
   "source": [
    "**4. Attrition by education**"
   ]
  },
  {
   "cell_type": "code",
   "execution_count": 18,
   "id": "8f002a78",
   "metadata": {
    "execution": {
     "iopub.execute_input": "2022-07-31T08:44:36.465123Z",
     "iopub.status.busy": "2022-07-31T08:44:36.464692Z",
     "iopub.status.idle": "2022-07-31T08:44:36.678772Z",
     "shell.execute_reply": "2022-07-31T08:44:36.677846Z"
    },
    "papermill": {
     "duration": 0.241647,
     "end_time": "2022-07-31T08:44:36.681204",
     "exception": false,
     "start_time": "2022-07-31T08:44:36.439557",
     "status": "completed"
    },
    "tags": []
   },
   "outputs": [
    {
     "data": {
      "image/png": "[encoded data removed]",
      "text/plain": [
       "<Figure size 576x360 with 1 Axes>"
      ]
     },
     "metadata": {},
     "output_type": "display_data"
    }
   ],
   "source": [
    "plt.figure(figsize=(8,5))\n",
    "sns.set_theme(style=\"darkgrid\", font_scale = 1.1)\n",
    "sns.countplot(data=df[(df['Attrition'] == 'Yes')], x='Education',palette='rocket').set_title('Attrition by Education');"
   ]
  },
  {
   "cell_type": "markdown",
   "id": "6aa29840",
   "metadata": {
    "papermill": {
     "duration": 0.023837,
     "end_time": "2022-07-31T08:44:36.729116",
     "exception": false,
     "start_time": "2022-07-31T08:44:36.705279",
     "status": "completed"
    },
    "tags": []
   },
   "source": [
    "**5. Attrition by education field**"
   ]
  },
  {
   "cell_type": "code",
   "execution_count": 19,
   "id": "11988271",
   "metadata": {
    "execution": {
     "iopub.execute_input": "2022-07-31T08:44:36.779166Z",
     "iopub.status.busy": "2022-07-31T08:44:36.778743Z",
     "iopub.status.idle": "2022-07-31T08:44:36.998963Z",
     "shell.execute_reply": "2022-07-31T08:44:36.997851Z"
    },
    "papermill": {
     "duration": 0.248255,
     "end_time": "2022-07-31T08:44:37.001431",
     "exception": false,
     "start_time": "2022-07-31T08:44:36.753176",
     "status": "completed"
    },
    "tags": []
   },
   "outputs": [
    {
     "data": {
      "image/png": "[encoded data removed]",
      "text/plain": [
       "<Figure size 576x360 with 1 Axes>"
      ]
     },
     "metadata": {},
     "output_type": "display_data"
    }
   ],
   "source": [
    "plt.figure(figsize=(8,5))\n",
    "sns.set_theme(style=\"darkgrid\", font_scale = 1)\n",
    "sns.countplot(data=df[(df['Attrition'] == 'Yes')], x='EducationField',palette='rocket').set_title('Attrition by Education Field');"
   ]
  },
  {
   "cell_type": "markdown",
   "id": "60d856e7",
   "metadata": {
    "papermill": {
     "duration": 0.023946,
     "end_time": "2022-07-31T08:44:37.049851",
     "exception": false,
     "start_time": "2022-07-31T08:44:37.025905",
     "status": "completed"
    },
    "tags": []
   },
   "source": [
    "# 5. Comparing data of the employees who left the organisation with the data of employees who didn't"
   ]
  },
  {
   "cell_type": "markdown",
   "id": "07a3070f",
   "metadata": {
    "papermill": {
     "duration": 0.02398,
     "end_time": "2022-07-31T08:44:37.098313",
     "exception": false,
     "start_time": "2022-07-31T08:44:37.074333",
     "status": "completed"
    },
    "tags": []
   },
   "source": [
    "**We will first create two dataframes, one with employees who left the company and other with employees who didn't**"
   ]
  },
  {
   "cell_type": "code",
   "execution_count": 20,
   "id": "3cd08d8f",
   "metadata": {
    "execution": {
     "iopub.execute_input": "2022-07-31T08:44:37.149292Z",
     "iopub.status.busy": "2022-07-31T08:44:37.148285Z",
     "iopub.status.idle": "2022-07-31T08:44:37.156383Z",
     "shell.execute_reply": "2022-07-31T08:44:37.155585Z"
    },
    "papermill": {
     "duration": 0.03565,
     "end_time": "2022-07-31T08:44:37.158300",
     "exception": false,
     "start_time": "2022-07-31T08:44:37.122650",
     "status": "completed"
    },
    "tags": []
   },
   "outputs": [
    {
     "data": {
      "text/plain": [
       "No     1233\n",
       "Yes     237\n",
       "Name: Attrition, dtype: int64"
      ]
     },
     "execution_count": 20,
     "metadata": {},
     "output_type": "execute_result"
    }
   ],
   "source": [
    "df[\"Attrition\"].value_counts()"
   ]
  },
  {
   "cell_type": "markdown",
   "id": "7219fbde",
   "metadata": {
    "papermill": {
     "duration": 0.024156,
     "end_time": "2022-07-31T08:44:37.206802",
     "exception": false,
     "start_time": "2022-07-31T08:44:37.182646",
     "status": "completed"
    },
    "tags": []
   },
   "source": [
    "**We will name the dataframe for the employees who left the company as dfY**"
   ]
  },
  {
   "cell_type": "code",
   "execution_count": 21,
   "id": "a26c3658",
   "metadata": {
    "execution": {
     "iopub.execute_input": "2022-07-31T08:44:37.258480Z",
     "iopub.status.busy": "2022-07-31T08:44:37.257360Z",
     "iopub.status.idle": "2022-07-31T08:44:37.263154Z",
     "shell.execute_reply": "2022-07-31T08:44:37.262359Z"
    },
    "papermill": {
     "duration": 0.033861,
     "end_time": "2022-07-31T08:44:37.265261",
     "exception": false,
     "start_time": "2022-07-31T08:44:37.231400",
     "status": "completed"
    },
    "tags": []
   },
   "outputs": [],
   "source": [
    "dfY =  df.loc[df['Attrition'] == 'Yes']"
   ]
  },
  {
   "cell_type": "code",
   "execution_count": 22,
   "id": "24b5dc73",
   "metadata": {
    "execution": {
     "iopub.execute_input": "2022-07-31T08:44:37.316816Z",
     "iopub.status.busy": "2022-07-31T08:44:37.315587Z",
     "iopub.status.idle": "2022-07-31T08:44:37.338979Z",
     "shell.execute_reply": "2022-07-31T08:44:37.337812Z"
    },
    "papermill": {
     "duration": 0.051865,
     "end_time": "2022-07-31T08:44:37.341517",
     "exception": false,
     "start_time": "2022-07-31T08:44:37.289652",
     "status": "completed"
    },
    "tags": []
   },
   "outputs": [
    {
     "data": {
      "text/html": [
       "<div>\n",
       "<style scoped>\n",
       "    .dataframe tbody tr th:only-of-type {\n",
       "        vertical-align: middle;\n",
       "    }\n",
       "\n",
       "    .dataframe tbody tr th {\n",
       "        vertical-align: top;\n",
       "    }\n",
       "\n",
       "    .dataframe thead th {\n",
       "        text-align: right;\n",
       "    }\n",
       "</style>\n",
       "<table border=\"1\" class=\"dataframe\">\n",
       "  <thead>\n",
       "    <tr style=\"text-align: right;\">\n",
       "      <th></th>\n",
       "      <th>Age</th>\n",
       "      <th>Attrition</th>\n",
       "      <th>BusinessTravel</th>\n",
       "      <th>DailyRate</th>\n",
       "      <th>Department</th>\n",
       "      <th>DistanceFromHome</th>\n",
       "      <th>Education</th>\n",
       "      <th>EducationField</th>\n",
       "      <th>EmployeeCount</th>\n",
       "      <th>EmployeeNumber</th>\n",
       "      <th>...</th>\n",
       "      <th>StockOptionLevel</th>\n",
       "      <th>TotalWorkingYears</th>\n",
       "      <th>TrainingTimesLastYear</th>\n",
       "      <th>WorkLifeBalance</th>\n",
       "      <th>YearsAtCompany</th>\n",
       "      <th>YearsInCurrentRole</th>\n",
       "      <th>YearsSinceLastPromotion</th>\n",
       "      <th>YearsWithCurrManager</th>\n",
       "      <th>age_decade</th>\n",
       "      <th>Age_decade</th>\n",
       "    </tr>\n",
       "  </thead>\n",
       "  <tbody>\n",
       "    <tr>\n",
       "      <th>0</th>\n",
       "      <td>41</td>\n",
       "      <td>Yes</td>\n",
       "      <td>Travel_Rarely</td>\n",
       "      <td>1102</td>\n",
       "      <td>Sales</td>\n",
       "      <td>1</td>\n",
       "      <td>College</td>\n",
       "      <td>Life Sciences</td>\n",
       "      <td>1</td>\n",
       "      <td>1</td>\n",
       "      <td>...</td>\n",
       "      <td>0</td>\n",
       "      <td>8</td>\n",
       "      <td>0</td>\n",
       "      <td>1</td>\n",
       "      <td>6</td>\n",
       "      <td>4</td>\n",
       "      <td>0</td>\n",
       "      <td>5</td>\n",
       "      <td>40s</td>\n",
       "      <td>40</td>\n",
       "    </tr>\n",
       "    <tr>\n",
       "      <th>2</th>\n",
       "      <td>37</td>\n",
       "      <td>Yes</td>\n",
       "      <td>Travel_Rarely</td>\n",
       "      <td>1373</td>\n",
       "      <td>Research &amp; Development</td>\n",
       "      <td>2</td>\n",
       "      <td>College</td>\n",
       "      <td>Other</td>\n",
       "      <td>1</td>\n",
       "      <td>4</td>\n",
       "      <td>...</td>\n",
       "      <td>0</td>\n",
       "      <td>7</td>\n",
       "      <td>3</td>\n",
       "      <td>3</td>\n",
       "      <td>0</td>\n",
       "      <td>0</td>\n",
       "      <td>0</td>\n",
       "      <td>0</td>\n",
       "      <td>30s</td>\n",
       "      <td>30</td>\n",
       "    </tr>\n",
       "    <tr>\n",
       "      <th>14</th>\n",
       "      <td>28</td>\n",
       "      <td>Yes</td>\n",
       "      <td>Travel_Rarely</td>\n",
       "      <td>103</td>\n",
       "      <td>Research &amp; Development</td>\n",
       "      <td>24</td>\n",
       "      <td>Bachelor</td>\n",
       "      <td>Life Sciences</td>\n",
       "      <td>1</td>\n",
       "      <td>19</td>\n",
       "      <td>...</td>\n",
       "      <td>0</td>\n",
       "      <td>6</td>\n",
       "      <td>4</td>\n",
       "      <td>3</td>\n",
       "      <td>4</td>\n",
       "      <td>2</td>\n",
       "      <td>0</td>\n",
       "      <td>3</td>\n",
       "      <td>20s</td>\n",
       "      <td>20</td>\n",
       "    </tr>\n",
       "    <tr>\n",
       "      <th>21</th>\n",
       "      <td>36</td>\n",
       "      <td>Yes</td>\n",
       "      <td>Travel_Rarely</td>\n",
       "      <td>1218</td>\n",
       "      <td>Sales</td>\n",
       "      <td>9</td>\n",
       "      <td>Master</td>\n",
       "      <td>Life Sciences</td>\n",
       "      <td>1</td>\n",
       "      <td>27</td>\n",
       "      <td>...</td>\n",
       "      <td>0</td>\n",
       "      <td>10</td>\n",
       "      <td>4</td>\n",
       "      <td>3</td>\n",
       "      <td>5</td>\n",
       "      <td>3</td>\n",
       "      <td>0</td>\n",
       "      <td>3</td>\n",
       "      <td>30s</td>\n",
       "      <td>30</td>\n",
       "    </tr>\n",
       "    <tr>\n",
       "      <th>24</th>\n",
       "      <td>34</td>\n",
       "      <td>Yes</td>\n",
       "      <td>Travel_Rarely</td>\n",
       "      <td>699</td>\n",
       "      <td>Research &amp; Development</td>\n",
       "      <td>6</td>\n",
       "      <td>Below College</td>\n",
       "      <td>Medical</td>\n",
       "      <td>1</td>\n",
       "      <td>31</td>\n",
       "      <td>...</td>\n",
       "      <td>0</td>\n",
       "      <td>8</td>\n",
       "      <td>2</td>\n",
       "      <td>3</td>\n",
       "      <td>4</td>\n",
       "      <td>2</td>\n",
       "      <td>1</td>\n",
       "      <td>3</td>\n",
       "      <td>30s</td>\n",
       "      <td>30</td>\n",
       "    </tr>\n",
       "  </tbody>\n",
       "</table>\n",
       "<p>5 rows × 37 columns</p>\n",
       "</div>"
      ],
      "text/plain": [
       "    Age Attrition BusinessTravel  DailyRate              Department  \\\n",
       "0    41       Yes  Travel_Rarely       1102                   Sales   \n",
       "2    37       Yes  Travel_Rarely       1373  Research & Development   \n",
       "14   28       Yes  Travel_Rarely        103  Research & Development   \n",
       "21   36       Yes  Travel_Rarely       1218                   Sales   \n",
       "24   34       Yes  Travel_Rarely        699  Research & Development   \n",
       "\n",
       "    DistanceFromHome      Education EducationField  EmployeeCount  \\\n",
       "0                  1        College  Life Sciences              1   \n",
       "2                  2        College          Other              1   \n",
       "14                24       Bachelor  Life Sciences              1   \n",
       "21                 9         Master  Life Sciences              1   \n",
       "24                 6  Below College        Medical              1   \n",
       "\n",
       "    EmployeeNumber  ...  StockOptionLevel TotalWorkingYears  \\\n",
       "0                1  ...                 0                 8   \n",
       "2                4  ...                 0                 7   \n",
       "14              19  ...                 0                 6   \n",
       "21              27  ...                 0                10   \n",
       "24              31  ...                 0                 8   \n",
       "\n",
       "    TrainingTimesLastYear  WorkLifeBalance  YearsAtCompany YearsInCurrentRole  \\\n",
       "0                       0                1               6                  4   \n",
       "2                       3                3               0                  0   \n",
       "14                      4                3               4                  2   \n",
       "21                      4                3               5                  3   \n",
       "24                      2                3               4                  2   \n",
       "\n",
       "    YearsSinceLastPromotion YearsWithCurrManager  age_decade  Age_decade  \n",
       "0                         0                    5         40s          40  \n",
       "2                         0                    0         30s          30  \n",
       "14                        0                    3         20s          20  \n",
       "21                        0                    3         30s          30  \n",
       "24                        1                    3         30s          30  \n",
       "\n",
       "[5 rows x 37 columns]"
      ]
     },
     "execution_count": 22,
     "metadata": {},
     "output_type": "execute_result"
    }
   ],
   "source": [
    "dfY.head()"
   ]
  },
  {
   "cell_type": "markdown",
   "id": "01bae1a2",
   "metadata": {
    "papermill": {
     "duration": 0.024622,
     "end_time": "2022-07-31T08:44:37.391327",
     "exception": false,
     "start_time": "2022-07-31T08:44:37.366705",
     "status": "completed"
    },
    "tags": []
   },
   "source": [
    "**We will name the dataframe who did not leave the company as dfN**"
   ]
  },
  {
   "cell_type": "code",
   "execution_count": 23,
   "id": "5761fb99",
   "metadata": {
    "execution": {
     "iopub.execute_input": "2022-07-31T08:44:37.443322Z",
     "iopub.status.busy": "2022-07-31T08:44:37.442578Z",
     "iopub.status.idle": "2022-07-31T08:44:37.448633Z",
     "shell.execute_reply": "2022-07-31T08:44:37.447909Z"
    },
    "papermill": {
     "duration": 0.034889,
     "end_time": "2022-07-31T08:44:37.450941",
     "exception": false,
     "start_time": "2022-07-31T08:44:37.416052",
     "status": "completed"
    },
    "tags": []
   },
   "outputs": [],
   "source": [
    "dfN = df[df['Attrition'] == 'No']"
   ]
  },
  {
   "cell_type": "code",
   "execution_count": 24,
   "id": "7b4f253b",
   "metadata": {
    "execution": {
     "iopub.execute_input": "2022-07-31T08:44:37.502052Z",
     "iopub.status.busy": "2022-07-31T08:44:37.501670Z",
     "iopub.status.idle": "2022-07-31T08:44:37.524822Z",
     "shell.execute_reply": "2022-07-31T08:44:37.523694Z"
    },
    "papermill": {
     "duration": 0.051596,
     "end_time": "2022-07-31T08:44:37.527247",
     "exception": false,
     "start_time": "2022-07-31T08:44:37.475651",
     "status": "completed"
    },
    "tags": []
   },
   "outputs": [
    {
     "data": {
      "text/html": [
       "<div>\n",
       "<style scoped>\n",
       "    .dataframe tbody tr th:only-of-type {\n",
       "        vertical-align: middle;\n",
       "    }\n",
       "\n",
       "    .dataframe tbody tr th {\n",
       "        vertical-align: top;\n",
       "    }\n",
       "\n",
       "    .dataframe thead th {\n",
       "        text-align: right;\n",
       "    }\n",
       "</style>\n",
       "<table border=\"1\" class=\"dataframe\">\n",
       "  <thead>\n",
       "    <tr style=\"text-align: right;\">\n",
       "      <th></th>\n",
       "      <th>Age</th>\n",
       "      <th>Attrition</th>\n",
       "      <th>BusinessTravel</th>\n",
       "      <th>DailyRate</th>\n",
       "      <th>Department</th>\n",
       "      <th>DistanceFromHome</th>\n",
       "      <th>Education</th>\n",
       "      <th>EducationField</th>\n",
       "      <th>EmployeeCount</th>\n",
       "      <th>EmployeeNumber</th>\n",
       "      <th>...</th>\n",
       "      <th>StockOptionLevel</th>\n",
       "      <th>TotalWorkingYears</th>\n",
       "      <th>TrainingTimesLastYear</th>\n",
       "      <th>WorkLifeBalance</th>\n",
       "      <th>YearsAtCompany</th>\n",
       "      <th>YearsInCurrentRole</th>\n",
       "      <th>YearsSinceLastPromotion</th>\n",
       "      <th>YearsWithCurrManager</th>\n",
       "      <th>age_decade</th>\n",
       "      <th>Age_decade</th>\n",
       "    </tr>\n",
       "  </thead>\n",
       "  <tbody>\n",
       "    <tr>\n",
       "      <th>1</th>\n",
       "      <td>49</td>\n",
       "      <td>No</td>\n",
       "      <td>Travel_Frequently</td>\n",
       "      <td>279</td>\n",
       "      <td>Research &amp; Development</td>\n",
       "      <td>8</td>\n",
       "      <td>Below College</td>\n",
       "      <td>Life Sciences</td>\n",
       "      <td>1</td>\n",
       "      <td>2</td>\n",
       "      <td>...</td>\n",
       "      <td>1</td>\n",
       "      <td>10</td>\n",
       "      <td>3</td>\n",
       "      <td>3</td>\n",
       "      <td>10</td>\n",
       "      <td>7</td>\n",
       "      <td>1</td>\n",
       "      <td>7</td>\n",
       "      <td>40s</td>\n",
       "      <td>40</td>\n",
       "    </tr>\n",
       "    <tr>\n",
       "      <th>3</th>\n",
       "      <td>33</td>\n",
       "      <td>No</td>\n",
       "      <td>Travel_Frequently</td>\n",
       "      <td>1392</td>\n",
       "      <td>Research &amp; Development</td>\n",
       "      <td>3</td>\n",
       "      <td>Master</td>\n",
       "      <td>Life Sciences</td>\n",
       "      <td>1</td>\n",
       "      <td>5</td>\n",
       "      <td>...</td>\n",
       "      <td>0</td>\n",
       "      <td>8</td>\n",
       "      <td>3</td>\n",
       "      <td>3</td>\n",
       "      <td>8</td>\n",
       "      <td>7</td>\n",
       "      <td>3</td>\n",
       "      <td>0</td>\n",
       "      <td>30s</td>\n",
       "      <td>30</td>\n",
       "    </tr>\n",
       "    <tr>\n",
       "      <th>4</th>\n",
       "      <td>27</td>\n",
       "      <td>No</td>\n",
       "      <td>Travel_Rarely</td>\n",
       "      <td>591</td>\n",
       "      <td>Research &amp; Development</td>\n",
       "      <td>2</td>\n",
       "      <td>Below College</td>\n",
       "      <td>Medical</td>\n",
       "      <td>1</td>\n",
       "      <td>7</td>\n",
       "      <td>...</td>\n",
       "      <td>1</td>\n",
       "      <td>6</td>\n",
       "      <td>3</td>\n",
       "      <td>3</td>\n",
       "      <td>2</td>\n",
       "      <td>2</td>\n",
       "      <td>2</td>\n",
       "      <td>2</td>\n",
       "      <td>20s</td>\n",
       "      <td>20</td>\n",
       "    </tr>\n",
       "    <tr>\n",
       "      <th>5</th>\n",
       "      <td>32</td>\n",
       "      <td>No</td>\n",
       "      <td>Travel_Frequently</td>\n",
       "      <td>1005</td>\n",
       "      <td>Research &amp; Development</td>\n",
       "      <td>2</td>\n",
       "      <td>College</td>\n",
       "      <td>Life Sciences</td>\n",
       "      <td>1</td>\n",
       "      <td>8</td>\n",
       "      <td>...</td>\n",
       "      <td>0</td>\n",
       "      <td>8</td>\n",
       "      <td>2</td>\n",
       "      <td>2</td>\n",
       "      <td>7</td>\n",
       "      <td>7</td>\n",
       "      <td>3</td>\n",
       "      <td>6</td>\n",
       "      <td>30s</td>\n",
       "      <td>30</td>\n",
       "    </tr>\n",
       "    <tr>\n",
       "      <th>6</th>\n",
       "      <td>59</td>\n",
       "      <td>No</td>\n",
       "      <td>Travel_Rarely</td>\n",
       "      <td>1324</td>\n",
       "      <td>Research &amp; Development</td>\n",
       "      <td>3</td>\n",
       "      <td>Bachelor</td>\n",
       "      <td>Medical</td>\n",
       "      <td>1</td>\n",
       "      <td>10</td>\n",
       "      <td>...</td>\n",
       "      <td>3</td>\n",
       "      <td>12</td>\n",
       "      <td>3</td>\n",
       "      <td>2</td>\n",
       "      <td>1</td>\n",
       "      <td>0</td>\n",
       "      <td>0</td>\n",
       "      <td>0</td>\n",
       "      <td>50s</td>\n",
       "      <td>50</td>\n",
       "    </tr>\n",
       "  </tbody>\n",
       "</table>\n",
       "<p>5 rows × 37 columns</p>\n",
       "</div>"
      ],
      "text/plain": [
       "   Age Attrition     BusinessTravel  DailyRate              Department  \\\n",
       "1   49        No  Travel_Frequently        279  Research & Development   \n",
       "3   33        No  Travel_Frequently       1392  Research & Development   \n",
       "4   27        No      Travel_Rarely        591  Research & Development   \n",
       "5   32        No  Travel_Frequently       1005  Research & Development   \n",
       "6   59        No      Travel_Rarely       1324  Research & Development   \n",
       "\n",
       "   DistanceFromHome      Education EducationField  EmployeeCount  \\\n",
       "1                 8  Below College  Life Sciences              1   \n",
       "3                 3         Master  Life Sciences              1   \n",
       "4                 2  Below College        Medical              1   \n",
       "5                 2        College  Life Sciences              1   \n",
       "6                 3       Bachelor        Medical              1   \n",
       "\n",
       "   EmployeeNumber  ...  StockOptionLevel TotalWorkingYears  \\\n",
       "1               2  ...                 1                10   \n",
       "3               5  ...                 0                 8   \n",
       "4               7  ...                 1                 6   \n",
       "5               8  ...                 0                 8   \n",
       "6              10  ...                 3                12   \n",
       "\n",
       "   TrainingTimesLastYear  WorkLifeBalance  YearsAtCompany YearsInCurrentRole  \\\n",
       "1                      3                3              10                  7   \n",
       "3                      3                3               8                  7   \n",
       "4                      3                3               2                  2   \n",
       "5                      2                2               7                  7   \n",
       "6                      3                2               1                  0   \n",
       "\n",
       "   YearsSinceLastPromotion YearsWithCurrManager  age_decade  Age_decade  \n",
       "1                        1                    7         40s          40  \n",
       "3                        3                    0         30s          30  \n",
       "4                        2                    2         20s          20  \n",
       "5                        3                    6         30s          30  \n",
       "6                        0                    0         50s          50  \n",
       "\n",
       "[5 rows x 37 columns]"
      ]
     },
     "execution_count": 24,
     "metadata": {},
     "output_type": "execute_result"
    }
   ],
   "source": [
    "dfN.head()"
   ]
  },
  {
   "cell_type": "markdown",
   "id": "de6a32f6",
   "metadata": {
    "papermill": {
     "duration": 0.025266,
     "end_time": "2022-07-31T08:44:37.577948",
     "exception": false,
     "start_time": "2022-07-31T08:44:37.552682",
     "status": "completed"
    },
    "tags": []
   },
   "source": [
    "**We will try to compare certain factors and try to find an insight into the possibilities of reasons why attrition takes place.**"
   ]
  },
  {
   "cell_type": "code",
   "execution_count": 25,
   "id": "e75aa990",
   "metadata": {
    "execution": {
     "iopub.execute_input": "2022-07-31T08:44:37.630629Z",
     "iopub.status.busy": "2022-07-31T08:44:37.629862Z",
     "iopub.status.idle": "2022-07-31T08:44:37.635759Z",
     "shell.execute_reply": "2022-07-31T08:44:37.635072Z"
    },
    "papermill": {
     "duration": 0.034712,
     "end_time": "2022-07-31T08:44:37.637943",
     "exception": false,
     "start_time": "2022-07-31T08:44:37.603231",
     "status": "completed"
    },
    "tags": []
   },
   "outputs": [],
   "source": [
    "dfsatisfactionY = dfY[['JobSatisfaction', 'RelationshipSatisfaction', 'EnvironmentSatisfaction', 'WorkLifeBalance' ]]"
   ]
  },
  {
   "cell_type": "code",
   "execution_count": 26,
   "id": "9f722aa6",
   "metadata": {
    "execution": {
     "iopub.execute_input": "2022-07-31T08:44:37.690249Z",
     "iopub.status.busy": "2022-07-31T08:44:37.689502Z",
     "iopub.status.idle": "2022-07-31T08:44:37.715573Z",
     "shell.execute_reply": "2022-07-31T08:44:37.714359Z"
    },
    "papermill": {
     "duration": 0.055199,
     "end_time": "2022-07-31T08:44:37.718235",
     "exception": false,
     "start_time": "2022-07-31T08:44:37.663036",
     "status": "completed"
    },
    "tags": []
   },
   "outputs": [
    {
     "data": {
      "text/html": [
       "<div>\n",
       "<style scoped>\n",
       "    .dataframe tbody tr th:only-of-type {\n",
       "        vertical-align: middle;\n",
       "    }\n",
       "\n",
       "    .dataframe tbody tr th {\n",
       "        vertical-align: top;\n",
       "    }\n",
       "\n",
       "    .dataframe thead th {\n",
       "        text-align: right;\n",
       "    }\n",
       "</style>\n",
       "<table border=\"1\" class=\"dataframe\">\n",
       "  <thead>\n",
       "    <tr style=\"text-align: right;\">\n",
       "      <th></th>\n",
       "      <th>JobSatisfaction</th>\n",
       "      <th>RelationshipSatisfaction</th>\n",
       "      <th>EnvironmentSatisfaction</th>\n",
       "      <th>WorkLifeBalance</th>\n",
       "    </tr>\n",
       "  </thead>\n",
       "  <tbody>\n",
       "    <tr>\n",
       "      <th>count</th>\n",
       "      <td>237.000000</td>\n",
       "      <td>237.000000</td>\n",
       "      <td>237.000000</td>\n",
       "      <td>237.000000</td>\n",
       "    </tr>\n",
       "    <tr>\n",
       "      <th>mean</th>\n",
       "      <td>2.468354</td>\n",
       "      <td>2.599156</td>\n",
       "      <td>2.464135</td>\n",
       "      <td>2.658228</td>\n",
       "    </tr>\n",
       "    <tr>\n",
       "      <th>std</th>\n",
       "      <td>1.118058</td>\n",
       "      <td>1.125437</td>\n",
       "      <td>1.169791</td>\n",
       "      <td>0.816453</td>\n",
       "    </tr>\n",
       "    <tr>\n",
       "      <th>min</th>\n",
       "      <td>1.000000</td>\n",
       "      <td>1.000000</td>\n",
       "      <td>1.000000</td>\n",
       "      <td>1.000000</td>\n",
       "    </tr>\n",
       "    <tr>\n",
       "      <th>25%</th>\n",
       "      <td>1.000000</td>\n",
       "      <td>2.000000</td>\n",
       "      <td>1.000000</td>\n",
       "      <td>2.000000</td>\n",
       "    </tr>\n",
       "    <tr>\n",
       "      <th>50%</th>\n",
       "      <td>3.000000</td>\n",
       "      <td>3.000000</td>\n",
       "      <td>3.000000</td>\n",
       "      <td>3.000000</td>\n",
       "    </tr>\n",
       "    <tr>\n",
       "      <th>75%</th>\n",
       "      <td>3.000000</td>\n",
       "      <td>4.000000</td>\n",
       "      <td>4.000000</td>\n",
       "      <td>3.000000</td>\n",
       "    </tr>\n",
       "    <tr>\n",
       "      <th>max</th>\n",
       "      <td>4.000000</td>\n",
       "      <td>4.000000</td>\n",
       "      <td>4.000000</td>\n",
       "      <td>4.000000</td>\n",
       "    </tr>\n",
       "  </tbody>\n",
       "</table>\n",
       "</div>"
      ],
      "text/plain": [
       "       JobSatisfaction  RelationshipSatisfaction  EnvironmentSatisfaction  \\\n",
       "count       237.000000                237.000000               237.000000   \n",
       "mean          2.468354                  2.599156                 2.464135   \n",
       "std           1.118058                  1.125437                 1.169791   \n",
       "min           1.000000                  1.000000                 1.000000   \n",
       "25%           1.000000                  2.000000                 1.000000   \n",
       "50%           3.000000                  3.000000                 3.000000   \n",
       "75%           3.000000                  4.000000                 4.000000   \n",
       "max           4.000000                  4.000000                 4.000000   \n",
       "\n",
       "       WorkLifeBalance  \n",
       "count       237.000000  \n",
       "mean          2.658228  \n",
       "std           0.816453  \n",
       "min           1.000000  \n",
       "25%           2.000000  \n",
       "50%           3.000000  \n",
       "75%           3.000000  \n",
       "max           4.000000  "
      ]
     },
     "execution_count": 26,
     "metadata": {},
     "output_type": "execute_result"
    }
   ],
   "source": [
    "dfsatisfactionY.describe()"
   ]
  },
  {
   "cell_type": "code",
   "execution_count": 27,
   "id": "4267d261",
   "metadata": {
    "execution": {
     "iopub.execute_input": "2022-07-31T08:44:37.771671Z",
     "iopub.status.busy": "2022-07-31T08:44:37.770985Z",
     "iopub.status.idle": "2022-07-31T08:44:37.776884Z",
     "shell.execute_reply": "2022-07-31T08:44:37.776124Z"
    },
    "papermill": {
     "duration": 0.035454,
     "end_time": "2022-07-31T08:44:37.779260",
     "exception": false,
     "start_time": "2022-07-31T08:44:37.743806",
     "status": "completed"
    },
    "tags": []
   },
   "outputs": [],
   "source": [
    "dfsatisfactionN = dfN[['JobSatisfaction', 'RelationshipSatisfaction', 'EnvironmentSatisfaction', 'WorkLifeBalance' ]]"
   ]
  },
  {
   "cell_type": "code",
   "execution_count": 28,
   "id": "2e5f8c21",
   "metadata": {
    "execution": {
     "iopub.execute_input": "2022-07-31T08:44:37.833732Z",
     "iopub.status.busy": "2022-07-31T08:44:37.832681Z",
     "iopub.status.idle": "2022-07-31T08:44:37.858565Z",
     "shell.execute_reply": "2022-07-31T08:44:37.857473Z"
    },
    "papermill": {
     "duration": 0.055333,
     "end_time": "2022-07-31T08:44:37.860923",
     "exception": false,
     "start_time": "2022-07-31T08:44:37.805590",
     "status": "completed"
    },
    "tags": []
   },
   "outputs": [
    {
     "data": {
      "text/html": [
       "<div>\n",
       "<style scoped>\n",
       "    .dataframe tbody tr th:only-of-type {\n",
       "        vertical-align: middle;\n",
       "    }\n",
       "\n",
       "    .dataframe tbody tr th {\n",
       "        vertical-align: top;\n",
       "    }\n",
       "\n",
       "    .dataframe thead th {\n",
       "        text-align: right;\n",
       "    }\n",
       "</style>\n",
       "<table border=\"1\" class=\"dataframe\">\n",
       "  <thead>\n",
       "    <tr style=\"text-align: right;\">\n",
       "      <th></th>\n",
       "      <th>JobSatisfaction</th>\n",
       "      <th>RelationshipSatisfaction</th>\n",
       "      <th>EnvironmentSatisfaction</th>\n",
       "      <th>WorkLifeBalance</th>\n",
       "    </tr>\n",
       "  </thead>\n",
       "  <tbody>\n",
       "    <tr>\n",
       "      <th>count</th>\n",
       "      <td>1233.000000</td>\n",
       "      <td>1233.000000</td>\n",
       "      <td>1233.000000</td>\n",
       "      <td>1233.000000</td>\n",
       "    </tr>\n",
       "    <tr>\n",
       "      <th>mean</th>\n",
       "      <td>2.778589</td>\n",
       "      <td>2.733982</td>\n",
       "      <td>2.771290</td>\n",
       "      <td>2.781022</td>\n",
       "    </tr>\n",
       "    <tr>\n",
       "      <th>std</th>\n",
       "      <td>1.093277</td>\n",
       "      <td>1.071603</td>\n",
       "      <td>1.071132</td>\n",
       "      <td>0.681907</td>\n",
       "    </tr>\n",
       "    <tr>\n",
       "      <th>min</th>\n",
       "      <td>1.000000</td>\n",
       "      <td>1.000000</td>\n",
       "      <td>1.000000</td>\n",
       "      <td>1.000000</td>\n",
       "    </tr>\n",
       "    <tr>\n",
       "      <th>25%</th>\n",
       "      <td>2.000000</td>\n",
       "      <td>2.000000</td>\n",
       "      <td>2.000000</td>\n",
       "      <td>2.000000</td>\n",
       "    </tr>\n",
       "    <tr>\n",
       "      <th>50%</th>\n",
       "      <td>3.000000</td>\n",
       "      <td>3.000000</td>\n",
       "      <td>3.000000</td>\n",
       "      <td>3.000000</td>\n",
       "    </tr>\n",
       "    <tr>\n",
       "      <th>75%</th>\n",
       "      <td>4.000000</td>\n",
       "      <td>4.000000</td>\n",
       "      <td>4.000000</td>\n",
       "      <td>3.000000</td>\n",
       "    </tr>\n",
       "    <tr>\n",
       "      <th>max</th>\n",
       "      <td>4.000000</td>\n",
       "      <td>4.000000</td>\n",
       "      <td>4.000000</td>\n",
       "      <td>4.000000</td>\n",
       "    </tr>\n",
       "  </tbody>\n",
       "</table>\n",
       "</div>"
      ],
      "text/plain": [
       "       JobSatisfaction  RelationshipSatisfaction  EnvironmentSatisfaction  \\\n",
       "count      1233.000000               1233.000000              1233.000000   \n",
       "mean          2.778589                  2.733982                 2.771290   \n",
       "std           1.093277                  1.071603                 1.071132   \n",
       "min           1.000000                  1.000000                 1.000000   \n",
       "25%           2.000000                  2.000000                 2.000000   \n",
       "50%           3.000000                  3.000000                 3.000000   \n",
       "75%           4.000000                  4.000000                 4.000000   \n",
       "max           4.000000                  4.000000                 4.000000   \n",
       "\n",
       "       WorkLifeBalance  \n",
       "count      1233.000000  \n",
       "mean          2.781022  \n",
       "std           0.681907  \n",
       "min           1.000000  \n",
       "25%           2.000000  \n",
       "50%           3.000000  \n",
       "75%           3.000000  \n",
       "max           4.000000  "
      ]
     },
     "execution_count": 28,
     "metadata": {},
     "output_type": "execute_result"
    }
   ],
   "source": [
    "dfsatisfactionN.describe()"
   ]
  },
  {
   "cell_type": "code",
   "execution_count": 29,
   "id": "0c27b87c",
   "metadata": {
    "execution": {
     "iopub.execute_input": "2022-07-31T08:44:37.914657Z",
     "iopub.status.busy": "2022-07-31T08:44:37.913879Z",
     "iopub.status.idle": "2022-07-31T08:44:37.922589Z",
     "shell.execute_reply": "2022-07-31T08:44:37.921536Z"
    },
    "papermill": {
     "duration": 0.038192,
     "end_time": "2022-07-31T08:44:37.924894",
     "exception": false,
     "start_time": "2022-07-31T08:44:37.886702",
     "status": "completed"
    },
    "tags": []
   },
   "outputs": [
    {
     "data": {
      "text/plain": [
       "3    73\n",
       "1    66\n",
       "4    52\n",
       "2    46\n",
       "Name: JobSatisfaction, dtype: int64"
      ]
     },
     "execution_count": 29,
     "metadata": {},
     "output_type": "execute_result"
    }
   ],
   "source": [
    "dfY['JobSatisfaction'].value_counts()"
   ]
  },
  {
   "cell_type": "code",
   "execution_count": 30,
   "id": "c295dff2",
   "metadata": {
    "execution": {
     "iopub.execute_input": "2022-07-31T08:44:37.979701Z",
     "iopub.status.busy": "2022-07-31T08:44:37.978952Z",
     "iopub.status.idle": "2022-07-31T08:44:37.987145Z",
     "shell.execute_reply": "2022-07-31T08:44:37.986281Z"
    },
    "papermill": {
     "duration": 0.037823,
     "end_time": "2022-07-31T08:44:37.989309",
     "exception": false,
     "start_time": "2022-07-31T08:44:37.951486",
     "status": "completed"
    },
    "tags": []
   },
   "outputs": [
    {
     "data": {
      "text/plain": [
       "4    407\n",
       "3    369\n",
       "2    234\n",
       "1    223\n",
       "Name: JobSatisfaction, dtype: int64"
      ]
     },
     "execution_count": 30,
     "metadata": {},
     "output_type": "execute_result"
    }
   ],
   "source": [
    "dfN['JobSatisfaction'].value_counts()"
   ]
  },
  {
   "cell_type": "code",
   "execution_count": 31,
   "id": "a1ec3d05",
   "metadata": {
    "execution": {
     "iopub.execute_input": "2022-07-31T08:44:38.043098Z",
     "iopub.status.busy": "2022-07-31T08:44:38.042693Z",
     "iopub.status.idle": "2022-07-31T08:44:39.202247Z",
     "shell.execute_reply": "2022-07-31T08:44:39.201142Z"
    },
    "papermill": {
     "duration": 1.189461,
     "end_time": "2022-07-31T08:44:39.204672",
     "exception": false,
     "start_time": "2022-07-31T08:44:38.015211",
     "status": "completed"
    },
    "tags": []
   },
   "outputs": [
    {
     "data": {
      "image/png": "[encoded data removed]",
      "text/plain": [
       "<Figure size 720x360 with 1 Axes>"
      ]
     },
     "metadata": {},
     "output_type": "display_data"
    },
    {
     "data": {
      "image/png": "[encoded data removed]",
      "text/plain": [
       "<Figure size 720x360 with 1 Axes>"
      ]
     },
     "metadata": {},
     "output_type": "display_data"
    },
    {
     "data": {
      "image/png": "[encoded data removed]",
      "text/plain": [
       "<Figure size 720x360 with 1 Axes>"
      ]
     },
     "metadata": {},
     "output_type": "display_data"
    },
    {
     "data": {
      "image/png": "[encoded data removed]",
      "text/plain": [
       "<Figure size 720x360 with 1 Axes>"
      ]
     },
     "metadata": {},
     "output_type": "display_data"
    }
   ],
   "source": [
    "for col in dfsatisfactionN.columns:\n",
    "    plt.figure(figsize=(10,5))\n",
    "    sns.set_theme(style=\"darkgrid\", font_scale = 0.75)\n",
    "    ax = sns.histplot(data = dfsatisfactionN, x = col, binwidth = 1, binrange = (1,5),legend = True, palette = 'rocket')\n",
    "    for i in ax.containers:\n",
    "        ax.bar_label(i,)"
   ]
  },
  {
   "cell_type": "code",
   "execution_count": 32,
   "id": "472e18d2",
   "metadata": {
    "execution": {
     "iopub.execute_input": "2022-07-31T08:44:39.261712Z",
     "iopub.status.busy": "2022-07-31T08:44:39.261318Z",
     "iopub.status.idle": "2022-07-31T08:44:40.393761Z",
     "shell.execute_reply": "2022-07-31T08:44:40.392580Z"
    },
    "papermill": {
     "duration": 1.163571,
     "end_time": "2022-07-31T08:44:40.396268",
     "exception": false,
     "start_time": "2022-07-31T08:44:39.232697",
     "status": "completed"
    },
    "tags": []
   },
   "outputs": [
    {
     "data": {
      "image/png": "[encoded data removed]",
      "text/plain": [
       "<Figure size 720x360 with 1 Axes>"
      ]
     },
     "metadata": {},
     "output_type": "display_data"
    },
    {
     "data": {
      "image/png": "[encoded data removed]",
      "text/plain": [
       "<Figure size 720x360 with 1 Axes>"
      ]
     },
     "metadata": {},
     "output_type": "display_data"
    },
    {
     "data": {
      "image/png": "[encoded data removed]",
      "text/plain": [
       "<Figure size 720x360 with 1 Axes>"
      ]
     },
     "metadata": {},
     "output_type": "display_data"
    },
    {
     "data": {
      "image/png": "[encoded data removed]",
      "text/plain": [
       "<Figure size 720x360 with 1 Axes>"
      ]
     },
     "metadata": {},
     "output_type": "display_data"
    }
   ],
   "source": [
    "for col in dfsatisfactionY.columns:\n",
    "    plt.figure(figsize=(10,5))\n",
    "    sns.set_theme(style=\"darkgrid\", font_scale = 0.75)\n",
    "    ax = sns.histplot(data = dfsatisfactionY, x = col, binwidth = 1, binrange = (1,5),legend = True, palette = 'rocket')\n",
    "    for i in ax.containers:\n",
    "        ax.bar_label(i,)"
   ]
  },
  {
   "cell_type": "markdown",
   "id": "fdfdcae1",
   "metadata": {
    "papermill": {
     "duration": 0.028422,
     "end_time": "2022-07-31T08:44:40.453149",
     "exception": false,
     "start_time": "2022-07-31T08:44:40.424727",
     "status": "completed"
    },
    "tags": []
   },
   "source": [
    "# **Comparing the two histograms for satisfaction levels for different factors for the employees atthe company, following insights can be draw**\n",
    "1. For the employees who didn't leave the organisation, the Job, Relationship, Environment satisfaction where largely above 3\n",
    "2. For the employees who left the organisation, the Job, Relationship and Environment satisfaction where largely below 3\n",
    "3. The overall worklife balance at the company seems to be decent since no major trend can be seen in both the group of employees.  "
   ]
  },
  {
   "cell_type": "code",
   "execution_count": 33,
   "id": "d4669c5e",
   "metadata": {
    "execution": {
     "iopub.execute_input": "2022-07-31T08:44:40.512684Z",
     "iopub.status.busy": "2022-07-31T08:44:40.511869Z",
     "iopub.status.idle": "2022-07-31T08:44:40.520597Z",
     "shell.execute_reply": "2022-07-31T08:44:40.519463Z"
    },
    "papermill": {
     "duration": 0.041115,
     "end_time": "2022-07-31T08:44:40.522824",
     "exception": false,
     "start_time": "2022-07-31T08:44:40.481709",
     "status": "completed"
    },
    "tags": []
   },
   "outputs": [
    {
     "data": {
      "text/plain": [
       "3    1244\n",
       "4     226\n",
       "Name: PerformanceRating, dtype: int64"
      ]
     },
     "execution_count": 33,
     "metadata": {},
     "output_type": "execute_result"
    }
   ],
   "source": [
    "df[\"PerformanceRating\"].value_counts()"
   ]
  },
  {
   "cell_type": "markdown",
   "id": "d644d530",
   "metadata": {
    "papermill": {
     "duration": 0.028004,
     "end_time": "2022-07-31T08:44:40.579478",
     "exception": false,
     "start_time": "2022-07-31T08:44:40.551474",
     "status": "completed"
    },
    "tags": []
   },
   "source": [
    "**The performance rating for the employees have been very good, so that factor can be excluded from the analysis**"
   ]
  },
  {
   "cell_type": "code",
   "execution_count": 34,
   "id": "1f930629",
   "metadata": {
    "execution": {
     "iopub.execute_input": "2022-07-31T08:44:40.637936Z",
     "iopub.status.busy": "2022-07-31T08:44:40.637549Z",
     "iopub.status.idle": "2022-07-31T08:44:40.647089Z",
     "shell.execute_reply": "2022-07-31T08:44:40.645709Z"
    },
    "papermill": {
     "duration": 0.041855,
     "end_time": "2022-07-31T08:44:40.649537",
     "exception": false,
     "start_time": "2022-07-31T08:44:40.607682",
     "status": "completed"
    },
    "tags": []
   },
   "outputs": [
    {
     "data": {
      "text/plain": [
       "3    893\n",
       "2    344\n",
       "4    153\n",
       "1     80\n",
       "Name: WorkLifeBalance, dtype: int64"
      ]
     },
     "execution_count": 34,
     "metadata": {},
     "output_type": "execute_result"
    }
   ],
   "source": [
    "df['WorkLifeBalance'].value_counts()"
   ]
  },
  {
   "cell_type": "markdown",
   "id": "e0f29c93",
   "metadata": {
    "papermill": {
     "duration": 0.027859,
     "end_time": "2022-07-31T08:44:40.706062",
     "exception": false,
     "start_time": "2022-07-31T08:44:40.678203",
     "status": "completed"
    },
    "tags": []
   },
   "source": [
    "# 6. Trying to analyse around Job Satisfaction"
   ]
  },
  {
   "cell_type": "code",
   "execution_count": 35,
   "id": "e4ffdae7",
   "metadata": {
    "execution": {
     "iopub.execute_input": "2022-07-31T08:44:40.765167Z",
     "iopub.status.busy": "2022-07-31T08:44:40.764750Z",
     "iopub.status.idle": "2022-07-31T08:44:44.271413Z",
     "shell.execute_reply": "2022-07-31T08:44:44.270142Z"
    },
    "papermill": {
     "duration": 3.539465,
     "end_time": "2022-07-31T08:44:44.274009",
     "exception": false,
     "start_time": "2022-07-31T08:44:40.734544",
     "status": "completed"
    },
    "tags": []
   },
   "outputs": [
    {
     "data": {
      "image/png": "[encoded data removed]",
      "text/plain": [
       "<Figure size 1153.85x2160 with 18 Axes>"
      ]
     },
     "metadata": {},
     "output_type": "display_data"
    }
   ],
   "source": [
    "sns.set_theme(style=\"darkgrid\", font_scale = 0.75)\n",
    "g = sns.catplot(x = \"Attrition\",hue = 'JobSatisfaction', row = 'EducationField', col = 'Department', data = df, kind = 'count', ci = None)"
   ]
  },
  {
   "cell_type": "code",
   "execution_count": 36,
   "id": "b6cf72fb",
   "metadata": {
    "execution": {
     "iopub.execute_input": "2022-07-31T08:44:44.336168Z",
     "iopub.status.busy": "2022-07-31T08:44:44.335744Z",
     "iopub.status.idle": "2022-07-31T08:44:44.360378Z",
     "shell.execute_reply": "2022-07-31T08:44:44.359245Z"
    },
    "papermill": {
     "duration": 0.058456,
     "end_time": "2022-07-31T08:44:44.362672",
     "exception": false,
     "start_time": "2022-07-31T08:44:44.304216",
     "status": "completed"
    },
    "tags": []
   },
   "outputs": [
    {
     "data": {
      "text/html": [
       "<div>\n",
       "<style scoped>\n",
       "    .dataframe tbody tr th:only-of-type {\n",
       "        vertical-align: middle;\n",
       "    }\n",
       "\n",
       "    .dataframe tbody tr th {\n",
       "        vertical-align: top;\n",
       "    }\n",
       "\n",
       "    .dataframe thead th {\n",
       "        text-align: right;\n",
       "    }\n",
       "</style>\n",
       "<table border=\"1\" class=\"dataframe\">\n",
       "  <thead>\n",
       "    <tr style=\"text-align: right;\">\n",
       "      <th></th>\n",
       "      <th>Age</th>\n",
       "      <th>Attrition</th>\n",
       "      <th>BusinessTravel</th>\n",
       "      <th>DailyRate</th>\n",
       "      <th>Department</th>\n",
       "      <th>DistanceFromHome</th>\n",
       "      <th>Education</th>\n",
       "      <th>EducationField</th>\n",
       "      <th>EmployeeCount</th>\n",
       "      <th>EmployeeNumber</th>\n",
       "      <th>...</th>\n",
       "      <th>StockOptionLevel</th>\n",
       "      <th>TotalWorkingYears</th>\n",
       "      <th>TrainingTimesLastYear</th>\n",
       "      <th>WorkLifeBalance</th>\n",
       "      <th>YearsAtCompany</th>\n",
       "      <th>YearsInCurrentRole</th>\n",
       "      <th>YearsSinceLastPromotion</th>\n",
       "      <th>YearsWithCurrManager</th>\n",
       "      <th>age_decade</th>\n",
       "      <th>Age_decade</th>\n",
       "    </tr>\n",
       "  </thead>\n",
       "  <tbody>\n",
       "    <tr>\n",
       "      <th>6</th>\n",
       "      <td>59</td>\n",
       "      <td>No</td>\n",
       "      <td>Travel_Rarely</td>\n",
       "      <td>1324</td>\n",
       "      <td>Research &amp; Development</td>\n",
       "      <td>3</td>\n",
       "      <td>Bachelor</td>\n",
       "      <td>Medical</td>\n",
       "      <td>1</td>\n",
       "      <td>10</td>\n",
       "      <td>...</td>\n",
       "      <td>3</td>\n",
       "      <td>12</td>\n",
       "      <td>3</td>\n",
       "      <td>2</td>\n",
       "      <td>1</td>\n",
       "      <td>0</td>\n",
       "      <td>0</td>\n",
       "      <td>0</td>\n",
       "      <td>50s</td>\n",
       "      <td>50</td>\n",
       "    </tr>\n",
       "    <tr>\n",
       "      <th>15</th>\n",
       "      <td>29</td>\n",
       "      <td>No</td>\n",
       "      <td>Travel_Rarely</td>\n",
       "      <td>1389</td>\n",
       "      <td>Research &amp; Development</td>\n",
       "      <td>21</td>\n",
       "      <td>Master</td>\n",
       "      <td>Life Sciences</td>\n",
       "      <td>1</td>\n",
       "      <td>20</td>\n",
       "      <td>...</td>\n",
       "      <td>1</td>\n",
       "      <td>10</td>\n",
       "      <td>1</td>\n",
       "      <td>3</td>\n",
       "      <td>10</td>\n",
       "      <td>9</td>\n",
       "      <td>8</td>\n",
       "      <td>8</td>\n",
       "      <td>20s</td>\n",
       "      <td>20</td>\n",
       "    </tr>\n",
       "    <tr>\n",
       "      <th>29</th>\n",
       "      <td>46</td>\n",
       "      <td>No</td>\n",
       "      <td>Travel_Rarely</td>\n",
       "      <td>705</td>\n",
       "      <td>Sales</td>\n",
       "      <td>2</td>\n",
       "      <td>Master</td>\n",
       "      <td>Marketing</td>\n",
       "      <td>1</td>\n",
       "      <td>38</td>\n",
       "      <td>...</td>\n",
       "      <td>0</td>\n",
       "      <td>22</td>\n",
       "      <td>2</td>\n",
       "      <td>2</td>\n",
       "      <td>2</td>\n",
       "      <td>2</td>\n",
       "      <td>2</td>\n",
       "      <td>1</td>\n",
       "      <td>40s</td>\n",
       "      <td>40</td>\n",
       "    </tr>\n",
       "    <tr>\n",
       "      <th>38</th>\n",
       "      <td>36</td>\n",
       "      <td>No</td>\n",
       "      <td>Travel_Rarely</td>\n",
       "      <td>852</td>\n",
       "      <td>Research &amp; Development</td>\n",
       "      <td>5</td>\n",
       "      <td>Master</td>\n",
       "      <td>Life Sciences</td>\n",
       "      <td>1</td>\n",
       "      <td>51</td>\n",
       "      <td>...</td>\n",
       "      <td>1</td>\n",
       "      <td>6</td>\n",
       "      <td>3</td>\n",
       "      <td>4</td>\n",
       "      <td>1</td>\n",
       "      <td>1</td>\n",
       "      <td>0</td>\n",
       "      <td>0</td>\n",
       "      <td>30s</td>\n",
       "      <td>30</td>\n",
       "    </tr>\n",
       "    <tr>\n",
       "      <th>39</th>\n",
       "      <td>33</td>\n",
       "      <td>No</td>\n",
       "      <td>Travel_Frequently</td>\n",
       "      <td>1141</td>\n",
       "      <td>Sales</td>\n",
       "      <td>1</td>\n",
       "      <td>Bachelor</td>\n",
       "      <td>Life Sciences</td>\n",
       "      <td>1</td>\n",
       "      <td>52</td>\n",
       "      <td>...</td>\n",
       "      <td>2</td>\n",
       "      <td>10</td>\n",
       "      <td>3</td>\n",
       "      <td>3</td>\n",
       "      <td>5</td>\n",
       "      <td>3</td>\n",
       "      <td>1</td>\n",
       "      <td>3</td>\n",
       "      <td>30s</td>\n",
       "      <td>30</td>\n",
       "    </tr>\n",
       "  </tbody>\n",
       "</table>\n",
       "<p>5 rows × 37 columns</p>\n",
       "</div>"
      ],
      "text/plain": [
       "    Age Attrition     BusinessTravel  DailyRate              Department  \\\n",
       "6    59        No      Travel_Rarely       1324  Research & Development   \n",
       "15   29        No      Travel_Rarely       1389  Research & Development   \n",
       "29   46        No      Travel_Rarely        705                   Sales   \n",
       "38   36        No      Travel_Rarely        852  Research & Development   \n",
       "39   33        No  Travel_Frequently       1141                   Sales   \n",
       "\n",
       "    DistanceFromHome Education EducationField  EmployeeCount  EmployeeNumber  \\\n",
       "6                  3  Bachelor        Medical              1              10   \n",
       "15                21    Master  Life Sciences              1              20   \n",
       "29                 2    Master      Marketing              1              38   \n",
       "38                 5    Master  Life Sciences              1              51   \n",
       "39                 1  Bachelor  Life Sciences              1              52   \n",
       "\n",
       "    ...  StockOptionLevel TotalWorkingYears  TrainingTimesLastYear  \\\n",
       "6   ...                 3                12                      3   \n",
       "15  ...                 1                10                      1   \n",
       "29  ...                 0                22                      2   \n",
       "38  ...                 1                 6                      3   \n",
       "39  ...                 2                10                      3   \n",
       "\n",
       "    WorkLifeBalance  YearsAtCompany YearsInCurrentRole  \\\n",
       "6                 2               1                  0   \n",
       "15                3              10                  9   \n",
       "29                2               2                  2   \n",
       "38                4               1                  1   \n",
       "39                3               5                  3   \n",
       "\n",
       "    YearsSinceLastPromotion YearsWithCurrManager  age_decade  Age_decade  \n",
       "6                         0                    0         50s          50  \n",
       "15                        8                    8         20s          20  \n",
       "29                        2                    1         40s          40  \n",
       "38                        0                    0         30s          30  \n",
       "39                        1                    3         30s          30  \n",
       "\n",
       "[5 rows x 37 columns]"
      ]
     },
     "execution_count": 36,
     "metadata": {},
     "output_type": "execute_result"
    }
   ],
   "source": [
    "dfNJS = dfN.loc[dfN['JobSatisfaction'] < 2]\n",
    "dfNJS.head()"
   ]
  },
  {
   "cell_type": "code",
   "execution_count": 37,
   "id": "2326bc90",
   "metadata": {
    "execution": {
     "iopub.execute_input": "2022-07-31T08:44:44.425562Z",
     "iopub.status.busy": "2022-07-31T08:44:44.424910Z",
     "iopub.status.idle": "2022-07-31T08:44:44.451047Z",
     "shell.execute_reply": "2022-07-31T08:44:44.449930Z"
    },
    "papermill": {
     "duration": 0.060068,
     "end_time": "2022-07-31T08:44:44.453476",
     "exception": false,
     "start_time": "2022-07-31T08:44:44.393408",
     "status": "completed"
    },
    "tags": []
   },
   "outputs": [
    {
     "data": {
      "text/html": [
       "<div>\n",
       "<style scoped>\n",
       "    .dataframe tbody tr th:only-of-type {\n",
       "        vertical-align: middle;\n",
       "    }\n",
       "\n",
       "    .dataframe tbody tr th {\n",
       "        vertical-align: top;\n",
       "    }\n",
       "\n",
       "    .dataframe thead th {\n",
       "        text-align: right;\n",
       "    }\n",
       "</style>\n",
       "<table border=\"1\" class=\"dataframe\">\n",
       "  <thead>\n",
       "    <tr style=\"text-align: right;\">\n",
       "      <th></th>\n",
       "      <th>Age</th>\n",
       "      <th>Attrition</th>\n",
       "      <th>BusinessTravel</th>\n",
       "      <th>DailyRate</th>\n",
       "      <th>Department</th>\n",
       "      <th>DistanceFromHome</th>\n",
       "      <th>Education</th>\n",
       "      <th>EducationField</th>\n",
       "      <th>EmployeeCount</th>\n",
       "      <th>EmployeeNumber</th>\n",
       "      <th>...</th>\n",
       "      <th>StockOptionLevel</th>\n",
       "      <th>TotalWorkingYears</th>\n",
       "      <th>TrainingTimesLastYear</th>\n",
       "      <th>WorkLifeBalance</th>\n",
       "      <th>YearsAtCompany</th>\n",
       "      <th>YearsInCurrentRole</th>\n",
       "      <th>YearsSinceLastPromotion</th>\n",
       "      <th>YearsWithCurrManager</th>\n",
       "      <th>age_decade</th>\n",
       "      <th>Age_decade</th>\n",
       "    </tr>\n",
       "  </thead>\n",
       "  <tbody>\n",
       "    <tr>\n",
       "      <th>21</th>\n",
       "      <td>36</td>\n",
       "      <td>Yes</td>\n",
       "      <td>Travel_Rarely</td>\n",
       "      <td>1218</td>\n",
       "      <td>Sales</td>\n",
       "      <td>9</td>\n",
       "      <td>Master</td>\n",
       "      <td>Life Sciences</td>\n",
       "      <td>1</td>\n",
       "      <td>27</td>\n",
       "      <td>...</td>\n",
       "      <td>0</td>\n",
       "      <td>10</td>\n",
       "      <td>4</td>\n",
       "      <td>3</td>\n",
       "      <td>5</td>\n",
       "      <td>3</td>\n",
       "      <td>0</td>\n",
       "      <td>3</td>\n",
       "      <td>30s</td>\n",
       "      <td>30</td>\n",
       "    </tr>\n",
       "    <tr>\n",
       "      <th>24</th>\n",
       "      <td>34</td>\n",
       "      <td>Yes</td>\n",
       "      <td>Travel_Rarely</td>\n",
       "      <td>699</td>\n",
       "      <td>Research &amp; Development</td>\n",
       "      <td>6</td>\n",
       "      <td>Below College</td>\n",
       "      <td>Medical</td>\n",
       "      <td>1</td>\n",
       "      <td>31</td>\n",
       "      <td>...</td>\n",
       "      <td>0</td>\n",
       "      <td>8</td>\n",
       "      <td>2</td>\n",
       "      <td>3</td>\n",
       "      <td>4</td>\n",
       "      <td>2</td>\n",
       "      <td>1</td>\n",
       "      <td>3</td>\n",
       "      <td>30s</td>\n",
       "      <td>30</td>\n",
       "    </tr>\n",
       "    <tr>\n",
       "      <th>26</th>\n",
       "      <td>32</td>\n",
       "      <td>Yes</td>\n",
       "      <td>Travel_Frequently</td>\n",
       "      <td>1125</td>\n",
       "      <td>Research &amp; Development</td>\n",
       "      <td>16</td>\n",
       "      <td>Below College</td>\n",
       "      <td>Life Sciences</td>\n",
       "      <td>1</td>\n",
       "      <td>33</td>\n",
       "      <td>...</td>\n",
       "      <td>0</td>\n",
       "      <td>10</td>\n",
       "      <td>5</td>\n",
       "      <td>3</td>\n",
       "      <td>10</td>\n",
       "      <td>2</td>\n",
       "      <td>6</td>\n",
       "      <td>7</td>\n",
       "      <td>30s</td>\n",
       "      <td>30</td>\n",
       "    </tr>\n",
       "    <tr>\n",
       "      <th>100</th>\n",
       "      <td>37</td>\n",
       "      <td>Yes</td>\n",
       "      <td>Travel_Rarely</td>\n",
       "      <td>807</td>\n",
       "      <td>Human Resources</td>\n",
       "      <td>6</td>\n",
       "      <td>Master</td>\n",
       "      <td>Human Resources</td>\n",
       "      <td>1</td>\n",
       "      <td>133</td>\n",
       "      <td>...</td>\n",
       "      <td>0</td>\n",
       "      <td>7</td>\n",
       "      <td>3</td>\n",
       "      <td>3</td>\n",
       "      <td>3</td>\n",
       "      <td>2</td>\n",
       "      <td>0</td>\n",
       "      <td>2</td>\n",
       "      <td>30s</td>\n",
       "      <td>30</td>\n",
       "    </tr>\n",
       "    <tr>\n",
       "      <th>140</th>\n",
       "      <td>32</td>\n",
       "      <td>Yes</td>\n",
       "      <td>Travel_Rarely</td>\n",
       "      <td>1033</td>\n",
       "      <td>Research &amp; Development</td>\n",
       "      <td>9</td>\n",
       "      <td>Bachelor</td>\n",
       "      <td>Medical</td>\n",
       "      <td>1</td>\n",
       "      <td>190</td>\n",
       "      <td>...</td>\n",
       "      <td>0</td>\n",
       "      <td>10</td>\n",
       "      <td>2</td>\n",
       "      <td>4</td>\n",
       "      <td>5</td>\n",
       "      <td>4</td>\n",
       "      <td>0</td>\n",
       "      <td>4</td>\n",
       "      <td>30s</td>\n",
       "      <td>30</td>\n",
       "    </tr>\n",
       "  </tbody>\n",
       "</table>\n",
       "<p>5 rows × 37 columns</p>\n",
       "</div>"
      ],
      "text/plain": [
       "     Age Attrition     BusinessTravel  DailyRate              Department  \\\n",
       "21    36       Yes      Travel_Rarely       1218                   Sales   \n",
       "24    34       Yes      Travel_Rarely        699  Research & Development   \n",
       "26    32       Yes  Travel_Frequently       1125  Research & Development   \n",
       "100   37       Yes      Travel_Rarely        807         Human Resources   \n",
       "140   32       Yes      Travel_Rarely       1033  Research & Development   \n",
       "\n",
       "     DistanceFromHome      Education   EducationField  EmployeeCount  \\\n",
       "21                  9         Master    Life Sciences              1   \n",
       "24                  6  Below College          Medical              1   \n",
       "26                 16  Below College    Life Sciences              1   \n",
       "100                 6         Master  Human Resources              1   \n",
       "140                 9       Bachelor          Medical              1   \n",
       "\n",
       "     EmployeeNumber  ...  StockOptionLevel TotalWorkingYears  \\\n",
       "21               27  ...                 0                10   \n",
       "24               31  ...                 0                 8   \n",
       "26               33  ...                 0                10   \n",
       "100             133  ...                 0                 7   \n",
       "140             190  ...                 0                10   \n",
       "\n",
       "     TrainingTimesLastYear  WorkLifeBalance  YearsAtCompany  \\\n",
       "21                       4                3               5   \n",
       "24                       2                3               4   \n",
       "26                       5                3              10   \n",
       "100                      3                3               3   \n",
       "140                      2                4               5   \n",
       "\n",
       "    YearsInCurrentRole  YearsSinceLastPromotion YearsWithCurrManager  \\\n",
       "21                   3                        0                    3   \n",
       "24                   2                        1                    3   \n",
       "26                   2                        6                    7   \n",
       "100                  2                        0                    2   \n",
       "140                  4                        0                    4   \n",
       "\n",
       "     age_decade  Age_decade  \n",
       "21          30s          30  \n",
       "24          30s          30  \n",
       "26          30s          30  \n",
       "100         30s          30  \n",
       "140         30s          30  \n",
       "\n",
       "[5 rows x 37 columns]"
      ]
     },
     "execution_count": 37,
     "metadata": {},
     "output_type": "execute_result"
    }
   ],
   "source": [
    "dfYJS = dfY.loc[dfY['JobSatisfaction'] < 2]\n",
    "dfYJS.head()"
   ]
  },
  {
   "cell_type": "markdown",
   "id": "4fec162c",
   "metadata": {
    "papermill": {
     "duration": 0.030361,
     "end_time": "2022-07-31T08:44:44.515212",
     "exception": false,
     "start_time": "2022-07-31T08:44:44.484851",
     "status": "completed"
    },
    "tags": []
   },
   "source": [
    "# **Now, we will try to find some insights on the employees whose jobsatisfaction is 1 and try to find possible insights**"
   ]
  },
  {
   "cell_type": "markdown",
   "id": "a2d81f9e",
   "metadata": {
    "papermill": {
     "duration": 0.030521,
     "end_time": "2022-07-31T08:44:44.576721",
     "exception": false,
     "start_time": "2022-07-31T08:44:44.546200",
     "status": "completed"
    },
    "tags": []
   },
   "source": [
    "**1. Business Travel**"
   ]
  },
  {
   "cell_type": "code",
   "execution_count": 38,
   "id": "acc2b510",
   "metadata": {
    "execution": {
     "iopub.execute_input": "2022-07-31T08:44:44.639896Z",
     "iopub.status.busy": "2022-07-31T08:44:44.639522Z",
     "iopub.status.idle": "2022-07-31T08:44:44.649327Z",
     "shell.execute_reply": "2022-07-31T08:44:44.648096Z"
    },
    "papermill": {
     "duration": 0.044415,
     "end_time": "2022-07-31T08:44:44.651921",
     "exception": false,
     "start_time": "2022-07-31T08:44:44.607506",
     "status": "completed"
    },
    "tags": []
   },
   "outputs": [
    {
     "data": {
      "text/plain": [
       "Travel_Rarely        0.766816\n",
       "Travel_Frequently    0.156951\n",
       "Non-Travel           0.076233\n",
       "Name: BusinessTravel, dtype: float64"
      ]
     },
     "execution_count": 38,
     "metadata": {},
     "output_type": "execute_result"
    }
   ],
   "source": [
    "dfNJS['BusinessTravel'].value_counts(normalize = True)"
   ]
  },
  {
   "cell_type": "code",
   "execution_count": 39,
   "id": "af63c76c",
   "metadata": {
    "execution": {
     "iopub.execute_input": "2022-07-31T08:44:44.715599Z",
     "iopub.status.busy": "2022-07-31T08:44:44.715219Z",
     "iopub.status.idle": "2022-07-31T08:44:44.724997Z",
     "shell.execute_reply": "2022-07-31T08:44:44.723826Z"
    },
    "papermill": {
     "duration": 0.044136,
     "end_time": "2022-07-31T08:44:44.727111",
     "exception": false,
     "start_time": "2022-07-31T08:44:44.682975",
     "status": "completed"
    },
    "tags": []
   },
   "outputs": [
    {
     "data": {
      "text/plain": [
       "Travel_Rarely        0.666667\n",
       "Travel_Frequently    0.242424\n",
       "Non-Travel           0.090909\n",
       "Name: BusinessTravel, dtype: float64"
      ]
     },
     "execution_count": 39,
     "metadata": {},
     "output_type": "execute_result"
    }
   ],
   "source": [
    "dfYJS['BusinessTravel'].value_counts(normalize = True)"
   ]
  },
  {
   "cell_type": "markdown",
   "id": "ca55db3e",
   "metadata": {
    "papermill": {
     "duration": 0.031105,
     "end_time": "2022-07-31T08:44:44.789127",
     "exception": false,
     "start_time": "2022-07-31T08:44:44.758022",
     "status": "completed"
    },
    "tags": []
   },
   "source": [
    "**2. Distance from Home**"
   ]
  },
  {
   "cell_type": "code",
   "execution_count": 40,
   "id": "744d93aa",
   "metadata": {
    "execution": {
     "iopub.execute_input": "2022-07-31T08:44:44.855106Z",
     "iopub.status.busy": "2022-07-31T08:44:44.854703Z",
     "iopub.status.idle": "2022-07-31T08:44:45.268705Z",
     "shell.execute_reply": "2022-07-31T08:44:45.267564Z"
    },
    "papermill": {
     "duration": 0.44945,
     "end_time": "2022-07-31T08:44:45.271210",
     "exception": false,
     "start_time": "2022-07-31T08:44:44.821760",
     "status": "completed"
    },
    "tags": []
   },
   "outputs": [
    {
     "data": {
      "image/png": "[encoded data removed]",
      "text/plain": [
       "<Figure size 1008x432 with 1 Axes>"
      ]
     },
     "metadata": {},
     "output_type": "display_data"
    }
   ],
   "source": [
    "plt.figure(figsize=(14,6))\n",
    "sns.set_theme(style = 'darkgrid', font_scale = 1)\n",
    "ax = sns.histplot(data = dfNJS, x = dfNJS['DistanceFromHome'], binwidth = 1, binrange = (1,30), palette= 'rocket')\n",
    "for i in ax.containers:\n",
    "  ax.bar_label(i,)"
   ]
  },
  {
   "cell_type": "code",
   "execution_count": 41,
   "id": "c102a20f",
   "metadata": {
    "execution": {
     "iopub.execute_input": "2022-07-31T08:44:45.335880Z",
     "iopub.status.busy": "2022-07-31T08:44:45.335271Z",
     "iopub.status.idle": "2022-07-31T08:44:45.732787Z",
     "shell.execute_reply": "2022-07-31T08:44:45.731709Z"
    },
    "papermill": {
     "duration": 0.433046,
     "end_time": "2022-07-31T08:44:45.735480",
     "exception": false,
     "start_time": "2022-07-31T08:44:45.302434",
     "status": "completed"
    },
    "tags": []
   },
   "outputs": [
    {
     "data": {
      "image/png": "[encoded data removed]",
      "text/plain": [
       "<Figure size 1008x432 with 1 Axes>"
      ]
     },
     "metadata": {},
     "output_type": "display_data"
    }
   ],
   "source": [
    "plt.figure(figsize=(14,6))\n",
    "sns.set_theme(style = 'darkgrid', font_scale = 1)\n",
    "ax = sns.histplot(data = dfYJS, x = dfYJS['DistanceFromHome'], binwidth = 1, binrange = (1,30), palette= 'rocket')\n",
    "for i in ax.containers:\n",
    "  ax.bar_label(i,)"
   ]
  },
  {
   "cell_type": "markdown",
   "id": "26298c2e",
   "metadata": {
    "papermill": {
     "duration": 0.032461,
     "end_time": "2022-07-31T08:44:45.799788",
     "exception": false,
     "start_time": "2022-07-31T08:44:45.767327",
     "status": "completed"
    },
    "tags": []
   },
   "source": [
    "**It can be noted that, the employees who didn't leave the company and had job satisfaction less than 1, have to travel less from home. The employees who left the company had larger distance to be travelled, which could possibly be a reason for lower job satisfaction and hence a reason to quit the company.**"
   ]
  },
  {
   "cell_type": "markdown",
   "id": "9c56cf1f",
   "metadata": {
    "papermill": {
     "duration": 0.031741,
     "end_time": "2022-07-31T08:44:45.863934",
     "exception": false,
     "start_time": "2022-07-31T08:44:45.832193",
     "status": "completed"
    },
    "tags": []
   },
   "source": [
    "**3. Department**"
   ]
  },
  {
   "cell_type": "code",
   "execution_count": 42,
   "id": "a4641184",
   "metadata": {
    "execution": {
     "iopub.execute_input": "2022-07-31T08:44:45.930397Z",
     "iopub.status.busy": "2022-07-31T08:44:45.929620Z",
     "iopub.status.idle": "2022-07-31T08:44:45.938574Z",
     "shell.execute_reply": "2022-07-31T08:44:45.937848Z"
    },
    "papermill": {
     "duration": 0.044888,
     "end_time": "2022-07-31T08:44:45.940874",
     "exception": false,
     "start_time": "2022-07-31T08:44:45.895986",
     "status": "completed"
    },
    "tags": []
   },
   "outputs": [
    {
     "data": {
      "text/plain": [
       "Research & Development    0.690583\n",
       "Sales                     0.282511\n",
       "Human Resources           0.026906\n",
       "Name: Department, dtype: float64"
      ]
     },
     "execution_count": 42,
     "metadata": {},
     "output_type": "execute_result"
    }
   ],
   "source": [
    "dfNJS['Department'].value_counts(normalize = True)"
   ]
  },
  {
   "cell_type": "code",
   "execution_count": 43,
   "id": "9b93461d",
   "metadata": {
    "execution": {
     "iopub.execute_input": "2022-07-31T08:44:46.007423Z",
     "iopub.status.busy": "2022-07-31T08:44:46.006616Z",
     "iopub.status.idle": "2022-07-31T08:44:46.015646Z",
     "shell.execute_reply": "2022-07-31T08:44:46.014586Z"
    },
    "papermill": {
     "duration": 0.044697,
     "end_time": "2022-07-31T08:44:46.017692",
     "exception": false,
     "start_time": "2022-07-31T08:44:45.972995",
     "status": "completed"
    },
    "tags": []
   },
   "outputs": [
    {
     "data": {
      "text/plain": [
       "Research & Development    0.575758\n",
       "Sales                     0.348485\n",
       "Human Resources           0.075758\n",
       "Name: Department, dtype: float64"
      ]
     },
     "execution_count": 43,
     "metadata": {},
     "output_type": "execute_result"
    }
   ],
   "source": [
    "dfYJS['Department'].value_counts(normalize = True)"
   ]
  },
  {
   "cell_type": "markdown",
   "id": "c44845ce",
   "metadata": {
    "papermill": {
     "duration": 0.031447,
     "end_time": "2022-07-31T08:44:46.081331",
     "exception": false,
     "start_time": "2022-07-31T08:44:46.049884",
     "status": "completed"
    },
    "tags": []
   },
   "source": [
    "**4. Environment Satisfaction**"
   ]
  },
  {
   "cell_type": "code",
   "execution_count": 44,
   "id": "5248ba6a",
   "metadata": {
    "execution": {
     "iopub.execute_input": "2022-07-31T08:44:46.146638Z",
     "iopub.status.busy": "2022-07-31T08:44:46.146275Z",
     "iopub.status.idle": "2022-07-31T08:44:46.155712Z",
     "shell.execute_reply": "2022-07-31T08:44:46.154974Z"
    },
    "papermill": {
     "duration": 0.044562,
     "end_time": "2022-07-31T08:44:46.157687",
     "exception": false,
     "start_time": "2022-07-31T08:44:46.113125",
     "status": "completed"
    },
    "tags": []
   },
   "outputs": [
    {
     "data": {
      "text/plain": [
       "3    0.349776\n",
       "4    0.318386\n",
       "2    0.183857\n",
       "1    0.147982\n",
       "Name: EnvironmentSatisfaction, dtype: float64"
      ]
     },
     "execution_count": 44,
     "metadata": {},
     "output_type": "execute_result"
    }
   ],
   "source": [
    "dfNJS['EnvironmentSatisfaction'].value_counts(normalize = True)"
   ]
  },
  {
   "cell_type": "code",
   "execution_count": 45,
   "id": "01e80859",
   "metadata": {
    "execution": {
     "iopub.execute_input": "2022-07-31T08:44:46.225211Z",
     "iopub.status.busy": "2022-07-31T08:44:46.224041Z",
     "iopub.status.idle": "2022-07-31T08:44:46.232447Z",
     "shell.execute_reply": "2022-07-31T08:44:46.231476Z"
    },
    "papermill": {
     "duration": 0.044768,
     "end_time": "2022-07-31T08:44:46.234558",
     "exception": false,
     "start_time": "2022-07-31T08:44:46.189790",
     "status": "completed"
    },
    "tags": []
   },
   "outputs": [
    {
     "data": {
      "text/plain": [
       "1    0.303030\n",
       "3    0.242424\n",
       "4    0.242424\n",
       "2    0.212121\n",
       "Name: EnvironmentSatisfaction, dtype: float64"
      ]
     },
     "execution_count": 45,
     "metadata": {},
     "output_type": "execute_result"
    }
   ],
   "source": [
    "dfYJS['EnvironmentSatisfaction'].value_counts(normalize = True)"
   ]
  },
  {
   "cell_type": "markdown",
   "id": "0e53dc2f",
   "metadata": {
    "papermill": {
     "duration": 0.032278,
     "end_time": "2022-07-31T08:44:46.299020",
     "exception": false,
     "start_time": "2022-07-31T08:44:46.266742",
     "status": "completed"
    },
    "tags": []
   },
   "source": [
    "**32% of the employees are employees who didn't leave the company and with job satisfaction level less than 1 had Environment satisfaction of less than 3.**\n",
    "\n",
    "**50% of the employees are employees who left the company and with job satisfaction level less than 1 had Environment satisfaction of less than 3.**"
   ]
  },
  {
   "cell_type": "markdown",
   "id": "772c2984",
   "metadata": {
    "papermill": {
     "duration": 0.032214,
     "end_time": "2022-07-31T08:44:46.363223",
     "exception": false,
     "start_time": "2022-07-31T08:44:46.331009",
     "status": "completed"
    },
    "tags": []
   },
   "source": [
    "**5. Job Role**"
   ]
  },
  {
   "cell_type": "code",
   "execution_count": 46,
   "id": "9b3e7ade",
   "metadata": {
    "execution": {
     "iopub.execute_input": "2022-07-31T08:44:46.430312Z",
     "iopub.status.busy": "2022-07-31T08:44:46.429258Z",
     "iopub.status.idle": "2022-07-31T08:44:46.437983Z",
     "shell.execute_reply": "2022-07-31T08:44:46.437155Z"
    },
    "papermill": {
     "duration": 0.044347,
     "end_time": "2022-07-31T08:44:46.440031",
     "exception": false,
     "start_time": "2022-07-31T08:44:46.395684",
     "status": "completed"
    },
    "tags": []
   },
   "outputs": [
    {
     "data": {
      "text/plain": [
       "Laboratory Technician        0.303030\n",
       "Sales Executive              0.242424\n",
       "Research Scientist           0.196970\n",
       "Sales Representative         0.106061\n",
       "Human Resources              0.075758\n",
       "Healthcare Representative    0.030303\n",
       "Manufacturing Director       0.030303\n",
       "Manager                      0.015152\n",
       "Name: JobRole, dtype: float64"
      ]
     },
     "execution_count": 46,
     "metadata": {},
     "output_type": "execute_result"
    }
   ],
   "source": [
    "dfYJS['JobRole'].value_counts(normalize = True)"
   ]
  },
  {
   "cell_type": "code",
   "execution_count": 47,
   "id": "bfc974d5",
   "metadata": {
    "execution": {
     "iopub.execute_input": "2022-07-31T08:44:46.506487Z",
     "iopub.status.busy": "2022-07-31T08:44:46.505782Z",
     "iopub.status.idle": "2022-07-31T08:44:46.513777Z",
     "shell.execute_reply": "2022-07-31T08:44:46.513089Z"
    },
    "papermill": {
     "duration": 0.043593,
     "end_time": "2022-07-31T08:44:46.515724",
     "exception": false,
     "start_time": "2022-07-31T08:44:46.472131",
     "status": "completed"
    },
    "tags": []
   },
   "outputs": [
    {
     "data": {
      "text/plain": [
       "Sales Executive              0.237668\n",
       "Research Scientist           0.183857\n",
       "Laboratory Technician        0.161435\n",
       "Manufacturing Director       0.107623\n",
       "Healthcare Representative    0.107623\n",
       "Manager                      0.089686\n",
       "Research Director            0.067265\n",
       "Sales Representative         0.022422\n",
       "Human Resources              0.022422\n",
       "Name: JobRole, dtype: float64"
      ]
     },
     "execution_count": 47,
     "metadata": {},
     "output_type": "execute_result"
    }
   ],
   "source": [
    "dfNJS['JobRole'].value_counts(normalize = True)"
   ]
  },
  {
   "cell_type": "code",
   "execution_count": 48,
   "id": "009efee2",
   "metadata": {
    "execution": {
     "iopub.execute_input": "2022-07-31T08:44:46.582678Z",
     "iopub.status.busy": "2022-07-31T08:44:46.581987Z",
     "iopub.status.idle": "2022-07-31T08:44:46.906288Z",
     "shell.execute_reply": "2022-07-31T08:44:46.904989Z"
    },
    "papermill": {
     "duration": 0.360703,
     "end_time": "2022-07-31T08:44:46.908696",
     "exception": false,
     "start_time": "2022-07-31T08:44:46.547993",
     "status": "completed"
    },
    "tags": []
   },
   "outputs": [
    {
     "data": {
      "image/png": "[encoded data removed]",
      "text/plain": [
       "<Figure size 1800x504 with 1 Axes>"
      ]
     },
     "metadata": {},
     "output_type": "display_data"
    }
   ],
   "source": [
    "plt.figure(figsize=(25,7))\n",
    "sns.set_theme(style = 'darkgrid', font_scale = .9)\n",
    "ax = sns.histplot(data = dfYJS, x = dfYJS['JobRole'], palette= 'rocket')\n",
    "for i in ax.containers:\n",
    "  ax.bar_label(i,)"
   ]
  },
  {
   "cell_type": "code",
   "execution_count": 49,
   "id": "6f183885",
   "metadata": {
    "execution": {
     "iopub.execute_input": "2022-07-31T08:44:46.977378Z",
     "iopub.status.busy": "2022-07-31T08:44:46.976302Z",
     "iopub.status.idle": "2022-07-31T08:44:47.298384Z",
     "shell.execute_reply": "2022-07-31T08:44:47.297166Z"
    },
    "papermill": {
     "duration": 0.35955,
     "end_time": "2022-07-31T08:44:47.301105",
     "exception": false,
     "start_time": "2022-07-31T08:44:46.941555",
     "status": "completed"
    },
    "tags": []
   },
   "outputs": [
    {
     "data": {
      "image/png": "[encoded data removed]",
      "text/plain": [
       "<Figure size 1800x504 with 1 Axes>"
      ]
     },
     "metadata": {},
     "output_type": "display_data"
    }
   ],
   "source": [
    "plt.figure(figsize=(25,7))\n",
    "sns.set_theme(style = 'darkgrid', font_scale = .9)\n",
    "ax = sns.histplot(data = dfNJS, x = dfNJS['JobRole'], palette= 'rocket')\n",
    "for i in ax.containers:\n",
    "  ax.bar_label(i,)"
   ]
  },
  {
   "cell_type": "markdown",
   "id": "c9e02c7e",
   "metadata": {
    "papermill": {
     "duration": 0.033818,
     "end_time": "2022-07-31T08:44:47.370105",
     "exception": false,
     "start_time": "2022-07-31T08:44:47.336287",
     "status": "completed"
    },
    "tags": []
   },
   "source": []
  },
  {
   "cell_type": "code",
   "execution_count": 50,
   "id": "66fc1df7",
   "metadata": {
    "execution": {
     "iopub.execute_input": "2022-07-31T08:44:47.441558Z",
     "iopub.status.busy": "2022-07-31T08:44:47.440873Z",
     "iopub.status.idle": "2022-07-31T08:44:47.451573Z",
     "shell.execute_reply": "2022-07-31T08:44:47.450488Z"
    },
    "papermill": {
     "duration": 0.048354,
     "end_time": "2022-07-31T08:44:47.453779",
     "exception": false,
     "start_time": "2022-07-31T08:44:47.405425",
     "status": "completed"
    },
    "tags": []
   },
   "outputs": [
    {
     "data": {
      "text/plain": [
       "JobRole                    EnvironmentSatisfaction\n",
       "Healthcare Representative  2                          1.000000\n",
       "Human Resources            2                          0.400000\n",
       "                           1                          0.200000\n",
       "                           3                          0.200000\n",
       "                           4                          0.200000\n",
       "Laboratory Technician      1                          0.450000\n",
       "                           3                          0.250000\n",
       "                           2                          0.150000\n",
       "                           4                          0.150000\n",
       "Manager                    4                          1.000000\n",
       "Manufacturing Director     3                          0.500000\n",
       "                           4                          0.500000\n",
       "Research Scientist         1                          0.307692\n",
       "                           4                          0.307692\n",
       "                           3                          0.230769\n",
       "                           2                          0.153846\n",
       "Sales Executive            1                          0.312500\n",
       "                           4                          0.312500\n",
       "                           2                          0.250000\n",
       "                           3                          0.125000\n",
       "Sales Representative       3                          0.571429\n",
       "                           1                          0.142857\n",
       "                           2                          0.142857\n",
       "                           4                          0.142857\n",
       "Name: EnvironmentSatisfaction, dtype: float64"
      ]
     },
     "execution_count": 50,
     "metadata": {},
     "output_type": "execute_result"
    }
   ],
   "source": [
    "dfYJS.groupby(['JobRole'])['EnvironmentSatisfaction'].value_counts(normalize=True)"
   ]
  },
  {
   "cell_type": "markdown",
   "id": "0c718b84",
   "metadata": {
    "papermill": {
     "duration": 0.033801,
     "end_time": "2022-07-31T08:44:47.521422",
     "exception": false,
     "start_time": "2022-07-31T08:44:47.487621",
     "status": "completed"
    },
    "tags": []
   },
   "source": [
    "1. Almost 54% of the employees with job satisfaction less than 1 and who left the company were Laboratory Technician and Sales Executives\n",
    "1. Even for those employees with Job satisfaction less than 1 and who didn't leave the company, Lab technician and Sales Executives comprise of 40%.\n",
    "1. 60% of Lab Technicians have environment satisfaction of less than 3 and 56% of sales executives have enovironment satisfaction of less than 3\n",
    "1. Hence it can be concluded that these two job roles are the least desired at the company"
   ]
  },
  {
   "cell_type": "markdown",
   "id": "7b7c859a",
   "metadata": {
    "papermill": {
     "duration": 0.033622,
     "end_time": "2022-07-31T08:44:47.588537",
     "exception": false,
     "start_time": "2022-07-31T08:44:47.554915",
     "status": "completed"
    },
    "tags": []
   },
   "source": [
    "**4. Years with current manager**"
   ]
  },
  {
   "cell_type": "code",
   "execution_count": 51,
   "id": "6005c29a",
   "metadata": {
    "execution": {
     "iopub.execute_input": "2022-07-31T08:44:47.658025Z",
     "iopub.status.busy": "2022-07-31T08:44:47.657643Z",
     "iopub.status.idle": "2022-07-31T08:44:47.667093Z",
     "shell.execute_reply": "2022-07-31T08:44:47.665862Z"
    },
    "papermill": {
     "duration": 0.046849,
     "end_time": "2022-07-31T08:44:47.669333",
     "exception": false,
     "start_time": "2022-07-31T08:44:47.622484",
     "status": "completed"
    },
    "tags": []
   },
   "outputs": [
    {
     "data": {
      "text/plain": [
       "2     0.215247\n",
       "7     0.156951\n",
       "0     0.121076\n",
       "3     0.116592\n",
       "8     0.076233\n",
       "4     0.062780\n",
       "9     0.044843\n",
       "1     0.040359\n",
       "5     0.040359\n",
       "10    0.026906\n",
       "11    0.022422\n",
       "12    0.022422\n",
       "6     0.017937\n",
       "13    0.013453\n",
       "17    0.013453\n",
       "16    0.008969\n",
       "Name: YearsWithCurrManager, dtype: float64"
      ]
     },
     "execution_count": 51,
     "metadata": {},
     "output_type": "execute_result"
    }
   ],
   "source": [
    "dfNJS['YearsWithCurrManager'].value_counts(normalize = True)"
   ]
  },
  {
   "cell_type": "code",
   "execution_count": 52,
   "id": "9815e0ae",
   "metadata": {
    "execution": {
     "iopub.execute_input": "2022-07-31T08:44:47.739106Z",
     "iopub.status.busy": "2022-07-31T08:44:47.738672Z",
     "iopub.status.idle": "2022-07-31T08:44:47.747878Z",
     "shell.execute_reply": "2022-07-31T08:44:47.747050Z"
    },
    "papermill": {
     "duration": 0.04703,
     "end_time": "2022-07-31T08:44:47.750156",
     "exception": false,
     "start_time": "2022-07-31T08:44:47.703126",
     "status": "completed"
    },
    "tags": []
   },
   "outputs": [
    {
     "data": {
      "text/plain": [
       "0     0.378788\n",
       "2     0.227273\n",
       "7     0.121212\n",
       "3     0.090909\n",
       "4     0.060606\n",
       "14    0.030303\n",
       "9     0.030303\n",
       "1     0.015152\n",
       "6     0.015152\n",
       "10    0.015152\n",
       "8     0.015152\n",
       "Name: YearsWithCurrManager, dtype: float64"
      ]
     },
     "execution_count": 52,
     "metadata": {},
     "output_type": "execute_result"
    }
   ],
   "source": [
    "dfYJS['YearsWithCurrManager'].value_counts(normalize = True)"
   ]
  },
  {
   "cell_type": "markdown",
   "id": "3f3d9fd4",
   "metadata": {
    "papermill": {
     "duration": 0.03351,
     "end_time": "2022-07-31T08:44:47.817693",
     "exception": false,
     "start_time": "2022-07-31T08:44:47.784183",
     "status": "completed"
    },
    "tags": []
   },
   "source": [
    "**More than 55% of the employees left the company within 2 years with the current manager. It could be theorised that if these employees worked with a certain group of managers who couldn't pass on the company ethos to the employees. These managers could be tracked upon and necessary trainings could be provided.**"
   ]
  },
  {
   "cell_type": "markdown",
   "id": "f2c9192a",
   "metadata": {
    "papermill": {
     "duration": 0.034448,
     "end_time": "2022-07-31T08:44:47.887446",
     "exception": false,
     "start_time": "2022-07-31T08:44:47.852998",
     "status": "completed"
    },
    "tags": []
   },
   "source": [
    "**The Sales executives and Lab technicians are the employees who form a large chunk of employees with least job satisfaction. Necessary steps can be taken to better the enovironment these two role groups work in. Certain managerial role candidates also need to be identified and checked for furhter trends. Employees needing to travel long tend to leave the company than compared to employees who need to travel less.**"
   ]
  },
  {
   "cell_type": "markdown",
   "id": "1524cc8c",
   "metadata": {
    "papermill": {
     "duration": 0.033382,
     "end_time": "2022-07-31T08:44:47.954654",
     "exception": false,
     "start_time": "2022-07-31T08:44:47.921272",
     "status": "completed"
    },
    "tags": []
   },
   "source": [
    "# 7. Conclusion"
   ]
  },
  {
   "cell_type": "markdown",
   "id": "7e5f6c81",
   "metadata": {
    "papermill": {
     "duration": 0.034346,
     "end_time": "2022-07-31T08:44:48.023580",
     "exception": false,
     "start_time": "2022-07-31T08:44:47.989234",
     "status": "completed"
    },
    "tags": []
   },
   "source": [
    "### The above dataset has many variables using which one can find detailed insights provided right questions are asked and obervations are made.More insigths can be extracted from the dateset depending on the questions we ask and the problems that persist."
   ]
  }
 ],
 "metadata": {
  "kernelspec": {
   "display_name": "Python 3",
   "language": "python",
   "name": "python3"
  },
  "language_info": {
   "codemirror_mode": {
    "name": "ipython",
    "version": 3
   },
   "file_extension": ".py",
   "mimetype": "text/x-python",
   "name": "python",
   "nbconvert_exporter": "python",
   "pygments_lexer": "ipython3",
   "version": "3.7.12"
  },
  "papermill": {
   "default_parameters": {},
   "duration": 25.88924,
   "end_time": "2022-07-31T08:44:49.165690",
   "environment_variables": {},
   "exception": null,
   "input_path": "__notebook__.ipynb",
   "output_path": "__notebook__.ipynb",
   "parameters": {},
   "start_time": "2022-07-31T08:44:23.276450",
   "version": "2.3.4"
  }
 },
 "nbformat": 4,
 "nbformat_minor": 5
}
